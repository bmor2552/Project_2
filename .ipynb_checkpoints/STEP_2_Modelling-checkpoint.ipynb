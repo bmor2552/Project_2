{
 "cells": [
  {
   "cell_type": "code",
   "execution_count": 168,
   "metadata": {},
   "outputs": [],
   "source": [
    "import numpy as np\n",
    "import pandas as pd\n",
    "import matplotlib.pyplot as plt\n",
    "%matplotlib inline\n",
    "import seaborn as sns\n",
    "import scipy.stats as stats\n",
    "import math\n",
    "import random\n",
    "\n",
    "from sklearn.linear_model import LinearRegression, Lasso, Ridge\n",
    "from sklearn.preprocessing import RobustScaler\n",
    "from sklearn.model_selection import cross_validate, cross_val_predict, cross_val_score\n",
    "from sklearn.pipeline import make_pipeline\n",
    "from sklearn.ensemble import BaggingRegressor\n",
    "from sklearn.preprocessing import MinMaxScaler\n",
    "\n",
    "from sklearn.model_selection import train_test_split\n",
    "from sklearn import metrics\n",
    "\n",
    "import gc; gc.enable()\n",
    "\n",
    "import warnings\n",
    "warnings.filterwarnings(\"ignore\")"
   ]
  },
  {
   "cell_type": "code",
   "execution_count": 169,
   "metadata": {},
   "outputs": [],
   "source": [
    "df = pd.read_csv('kc_house_data.csv')"
   ]
  },
  {
   "cell_type": "code",
   "execution_count": 3,
   "metadata": {},
   "outputs": [
    {
     "data": {
      "text/html": [
       "<div>\n",
       "<style scoped>\n",
       "    .dataframe tbody tr th:only-of-type {\n",
       "        vertical-align: middle;\n",
       "    }\n",
       "\n",
       "    .dataframe tbody tr th {\n",
       "        vertical-align: top;\n",
       "    }\n",
       "\n",
       "    .dataframe thead th {\n",
       "        text-align: right;\n",
       "    }\n",
       "</style>\n",
       "<table border=\"1\" class=\"dataframe\">\n",
       "  <thead>\n",
       "    <tr style=\"text-align: right;\">\n",
       "      <th></th>\n",
       "      <th>id</th>\n",
       "      <th>price</th>\n",
       "      <th>bedrooms</th>\n",
       "      <th>bathrooms</th>\n",
       "      <th>sqft_living</th>\n",
       "      <th>sqft_lot</th>\n",
       "      <th>floors</th>\n",
       "      <th>waterfront</th>\n",
       "      <th>view</th>\n",
       "      <th>condition</th>\n",
       "      <th>grade</th>\n",
       "      <th>sqft_above</th>\n",
       "      <th>yr_built</th>\n",
       "      <th>yr_renovated</th>\n",
       "      <th>zipcode</th>\n",
       "      <th>lat</th>\n",
       "      <th>long</th>\n",
       "      <th>sqft_living15</th>\n",
       "      <th>sqft_lot15</th>\n",
       "    </tr>\n",
       "  </thead>\n",
       "  <tbody>\n",
       "    <tr>\n",
       "      <td>count</td>\n",
       "      <td>2.159700e+04</td>\n",
       "      <td>2.159700e+04</td>\n",
       "      <td>21597.000000</td>\n",
       "      <td>21597.000000</td>\n",
       "      <td>21597.000000</td>\n",
       "      <td>2.159700e+04</td>\n",
       "      <td>21597.000000</td>\n",
       "      <td>19221.000000</td>\n",
       "      <td>21534.000000</td>\n",
       "      <td>21597.000000</td>\n",
       "      <td>21597.000000</td>\n",
       "      <td>21597.000000</td>\n",
       "      <td>21597.000000</td>\n",
       "      <td>17755.000000</td>\n",
       "      <td>21597.000000</td>\n",
       "      <td>21597.000000</td>\n",
       "      <td>21597.000000</td>\n",
       "      <td>21597.000000</td>\n",
       "      <td>21597.000000</td>\n",
       "    </tr>\n",
       "    <tr>\n",
       "      <td>mean</td>\n",
       "      <td>4.580474e+09</td>\n",
       "      <td>5.402966e+05</td>\n",
       "      <td>3.373200</td>\n",
       "      <td>2.115826</td>\n",
       "      <td>2080.321850</td>\n",
       "      <td>1.509941e+04</td>\n",
       "      <td>1.494096</td>\n",
       "      <td>0.007596</td>\n",
       "      <td>0.233863</td>\n",
       "      <td>3.409825</td>\n",
       "      <td>7.657915</td>\n",
       "      <td>1788.596842</td>\n",
       "      <td>1970.999676</td>\n",
       "      <td>83.636778</td>\n",
       "      <td>98077.951845</td>\n",
       "      <td>47.560093</td>\n",
       "      <td>-122.213982</td>\n",
       "      <td>1986.620318</td>\n",
       "      <td>12758.283512</td>\n",
       "    </tr>\n",
       "    <tr>\n",
       "      <td>std</td>\n",
       "      <td>2.876736e+09</td>\n",
       "      <td>3.673681e+05</td>\n",
       "      <td>0.926299</td>\n",
       "      <td>0.768984</td>\n",
       "      <td>918.106125</td>\n",
       "      <td>4.141264e+04</td>\n",
       "      <td>0.539683</td>\n",
       "      <td>0.086825</td>\n",
       "      <td>0.765686</td>\n",
       "      <td>0.650546</td>\n",
       "      <td>1.173200</td>\n",
       "      <td>827.759761</td>\n",
       "      <td>29.375234</td>\n",
       "      <td>399.946414</td>\n",
       "      <td>53.513072</td>\n",
       "      <td>0.138552</td>\n",
       "      <td>0.140724</td>\n",
       "      <td>685.230472</td>\n",
       "      <td>27274.441950</td>\n",
       "    </tr>\n",
       "    <tr>\n",
       "      <td>min</td>\n",
       "      <td>1.000102e+06</td>\n",
       "      <td>7.800000e+04</td>\n",
       "      <td>1.000000</td>\n",
       "      <td>0.500000</td>\n",
       "      <td>370.000000</td>\n",
       "      <td>5.200000e+02</td>\n",
       "      <td>1.000000</td>\n",
       "      <td>0.000000</td>\n",
       "      <td>0.000000</td>\n",
       "      <td>1.000000</td>\n",
       "      <td>3.000000</td>\n",
       "      <td>370.000000</td>\n",
       "      <td>1900.000000</td>\n",
       "      <td>0.000000</td>\n",
       "      <td>98001.000000</td>\n",
       "      <td>47.155900</td>\n",
       "      <td>-122.519000</td>\n",
       "      <td>399.000000</td>\n",
       "      <td>651.000000</td>\n",
       "    </tr>\n",
       "    <tr>\n",
       "      <td>25%</td>\n",
       "      <td>2.123049e+09</td>\n",
       "      <td>3.220000e+05</td>\n",
       "      <td>3.000000</td>\n",
       "      <td>1.750000</td>\n",
       "      <td>1430.000000</td>\n",
       "      <td>5.040000e+03</td>\n",
       "      <td>1.000000</td>\n",
       "      <td>0.000000</td>\n",
       "      <td>0.000000</td>\n",
       "      <td>3.000000</td>\n",
       "      <td>7.000000</td>\n",
       "      <td>1190.000000</td>\n",
       "      <td>1951.000000</td>\n",
       "      <td>0.000000</td>\n",
       "      <td>98033.000000</td>\n",
       "      <td>47.471100</td>\n",
       "      <td>-122.328000</td>\n",
       "      <td>1490.000000</td>\n",
       "      <td>5100.000000</td>\n",
       "    </tr>\n",
       "    <tr>\n",
       "      <td>50%</td>\n",
       "      <td>3.904930e+09</td>\n",
       "      <td>4.500000e+05</td>\n",
       "      <td>3.000000</td>\n",
       "      <td>2.250000</td>\n",
       "      <td>1910.000000</td>\n",
       "      <td>7.618000e+03</td>\n",
       "      <td>1.500000</td>\n",
       "      <td>0.000000</td>\n",
       "      <td>0.000000</td>\n",
       "      <td>3.000000</td>\n",
       "      <td>7.000000</td>\n",
       "      <td>1560.000000</td>\n",
       "      <td>1975.000000</td>\n",
       "      <td>0.000000</td>\n",
       "      <td>98065.000000</td>\n",
       "      <td>47.571800</td>\n",
       "      <td>-122.231000</td>\n",
       "      <td>1840.000000</td>\n",
       "      <td>7620.000000</td>\n",
       "    </tr>\n",
       "    <tr>\n",
       "      <td>75%</td>\n",
       "      <td>7.308900e+09</td>\n",
       "      <td>6.450000e+05</td>\n",
       "      <td>4.000000</td>\n",
       "      <td>2.500000</td>\n",
       "      <td>2550.000000</td>\n",
       "      <td>1.068500e+04</td>\n",
       "      <td>2.000000</td>\n",
       "      <td>0.000000</td>\n",
       "      <td>0.000000</td>\n",
       "      <td>4.000000</td>\n",
       "      <td>8.000000</td>\n",
       "      <td>2210.000000</td>\n",
       "      <td>1997.000000</td>\n",
       "      <td>0.000000</td>\n",
       "      <td>98118.000000</td>\n",
       "      <td>47.678000</td>\n",
       "      <td>-122.125000</td>\n",
       "      <td>2360.000000</td>\n",
       "      <td>10083.000000</td>\n",
       "    </tr>\n",
       "    <tr>\n",
       "      <td>max</td>\n",
       "      <td>9.900000e+09</td>\n",
       "      <td>7.700000e+06</td>\n",
       "      <td>33.000000</td>\n",
       "      <td>8.000000</td>\n",
       "      <td>13540.000000</td>\n",
       "      <td>1.651359e+06</td>\n",
       "      <td>3.500000</td>\n",
       "      <td>1.000000</td>\n",
       "      <td>4.000000</td>\n",
       "      <td>5.000000</td>\n",
       "      <td>13.000000</td>\n",
       "      <td>9410.000000</td>\n",
       "      <td>2015.000000</td>\n",
       "      <td>2015.000000</td>\n",
       "      <td>98199.000000</td>\n",
       "      <td>47.777600</td>\n",
       "      <td>-121.315000</td>\n",
       "      <td>6210.000000</td>\n",
       "      <td>871200.000000</td>\n",
       "    </tr>\n",
       "  </tbody>\n",
       "</table>\n",
       "</div>"
      ],
      "text/plain": [
       "                 id         price      bedrooms     bathrooms   sqft_living  \\\n",
       "count  2.159700e+04  2.159700e+04  21597.000000  21597.000000  21597.000000   \n",
       "mean   4.580474e+09  5.402966e+05      3.373200      2.115826   2080.321850   \n",
       "std    2.876736e+09  3.673681e+05      0.926299      0.768984    918.106125   \n",
       "min    1.000102e+06  7.800000e+04      1.000000      0.500000    370.000000   \n",
       "25%    2.123049e+09  3.220000e+05      3.000000      1.750000   1430.000000   \n",
       "50%    3.904930e+09  4.500000e+05      3.000000      2.250000   1910.000000   \n",
       "75%    7.308900e+09  6.450000e+05      4.000000      2.500000   2550.000000   \n",
       "max    9.900000e+09  7.700000e+06     33.000000      8.000000  13540.000000   \n",
       "\n",
       "           sqft_lot        floors    waterfront          view     condition  \\\n",
       "count  2.159700e+04  21597.000000  19221.000000  21534.000000  21597.000000   \n",
       "mean   1.509941e+04      1.494096      0.007596      0.233863      3.409825   \n",
       "std    4.141264e+04      0.539683      0.086825      0.765686      0.650546   \n",
       "min    5.200000e+02      1.000000      0.000000      0.000000      1.000000   \n",
       "25%    5.040000e+03      1.000000      0.000000      0.000000      3.000000   \n",
       "50%    7.618000e+03      1.500000      0.000000      0.000000      3.000000   \n",
       "75%    1.068500e+04      2.000000      0.000000      0.000000      4.000000   \n",
       "max    1.651359e+06      3.500000      1.000000      4.000000      5.000000   \n",
       "\n",
       "              grade    sqft_above      yr_built  yr_renovated       zipcode  \\\n",
       "count  21597.000000  21597.000000  21597.000000  17755.000000  21597.000000   \n",
       "mean       7.657915   1788.596842   1970.999676     83.636778  98077.951845   \n",
       "std        1.173200    827.759761     29.375234    399.946414     53.513072   \n",
       "min        3.000000    370.000000   1900.000000      0.000000  98001.000000   \n",
       "25%        7.000000   1190.000000   1951.000000      0.000000  98033.000000   \n",
       "50%        7.000000   1560.000000   1975.000000      0.000000  98065.000000   \n",
       "75%        8.000000   2210.000000   1997.000000      0.000000  98118.000000   \n",
       "max       13.000000   9410.000000   2015.000000   2015.000000  98199.000000   \n",
       "\n",
       "                lat          long  sqft_living15     sqft_lot15  \n",
       "count  21597.000000  21597.000000   21597.000000   21597.000000  \n",
       "mean      47.560093   -122.213982    1986.620318   12758.283512  \n",
       "std        0.138552      0.140724     685.230472   27274.441950  \n",
       "min       47.155900   -122.519000     399.000000     651.000000  \n",
       "25%       47.471100   -122.328000    1490.000000    5100.000000  \n",
       "50%       47.571800   -122.231000    1840.000000    7620.000000  \n",
       "75%       47.678000   -122.125000    2360.000000   10083.000000  \n",
       "max       47.777600   -121.315000    6210.000000  871200.000000  "
      ]
     },
     "execution_count": 3,
     "metadata": {},
     "output_type": "execute_result"
    }
   ],
   "source": [
    "df.describe()"
   ]
  },
  {
   "cell_type": "code",
   "execution_count": 4,
   "metadata": {},
   "outputs": [
    {
     "data": {
      "text/plain": [
       "<matplotlib.axes._subplots.AxesSubplot at 0x10e74b810>"
      ]
     },
     "execution_count": 4,
     "metadata": {},
     "output_type": "execute_result"
    },
    {
     "data": {
      "image/png": "[encoded data removed]",
      "text/plain": [
       "<Figure size 432x288 with 1 Axes>"
      ]
     },
     "metadata": {
      "needs_background": "light"
     },
     "output_type": "display_data"
    }
   ],
   "source": [
    "df.plot(x='bedrooms', y='price', style='o')"
   ]
  },
  {
   "cell_type": "code",
   "execution_count": 5,
   "metadata": {
    "scrolled": true
   },
   "outputs": [
    {
     "data": {
      "text/plain": [
       "<matplotlib.axes._subplots.AxesSubplot at 0x10da44450>"
      ]
     },
     "execution_count": 5,
     "metadata": {},
     "output_type": "execute_result"
    },
    {
     "data": {
      "image/png": "[encoded data removed]",
      "text/plain": [
       "<Figure size 432x288 with 1 Axes>"
      ]
     },
     "metadata": {
      "needs_background": "light"
     },
     "output_type": "display_data"
    }
   ],
   "source": [
    "df.plot(x='grade', y='price', style='o')"
   ]
  },
  {
   "cell_type": "code",
   "execution_count": 6,
   "metadata": {
    "scrolled": true
   },
   "outputs": [
    {
     "data": {
      "text/plain": [
       "<matplotlib.axes._subplots.AxesSubplot at 0x1a23d036d0>"
      ]
     },
     "execution_count": 6,
     "metadata": {},
     "output_type": "execute_result"
    },
    {
     "data": {
      "image/png": "[encoded data removed]",
      "text/plain": [
       "<Figure size 432x288 with 1 Axes>"
      ]
     },
     "metadata": {
      "needs_background": "light"
     },
     "output_type": "display_data"
    }
   ],
   "source": [
    "df.plot(x='bathrooms', y='price', style='o')"
   ]
  },
  {
   "cell_type": "code",
   "execution_count": 7,
   "metadata": {},
   "outputs": [],
   "source": [
    "# df['id'].value_counts()"
   ]
  },
  {
   "cell_type": "code",
   "execution_count": 8,
   "metadata": {},
   "outputs": [],
   "source": [
    "# df.loc[df['id']==795000620]"
   ]
  },
  {
   "cell_type": "code",
   "execution_count": 9,
   "metadata": {},
   "outputs": [],
   "source": [
    "# df['bedrooms'].value_counts()"
   ]
  },
  {
   "cell_type": "code",
   "execution_count": 10,
   "metadata": {
    "scrolled": true
   },
   "outputs": [],
   "source": [
    "# df.loc[df['bedrooms']==33]"
   ]
  },
  {
   "cell_type": "code",
   "execution_count": 170,
   "metadata": {},
   "outputs": [],
   "source": [
    "df['bedrooms'].replace(to_replace = 33, value =3 , inplace=True)"
   ]
  },
  {
   "cell_type": "code",
   "execution_count": 12,
   "metadata": {
    "scrolled": true
   },
   "outputs": [],
   "source": [
    "# df.loc[df['id']==2402100895]"
   ]
  },
  {
   "cell_type": "code",
   "execution_count": 13,
   "metadata": {
    "scrolled": true
   },
   "outputs": [],
   "source": [
    "# df['bathrooms'].value_counts()"
   ]
  },
  {
   "cell_type": "code",
   "execution_count": 171,
   "metadata": {},
   "outputs": [],
   "source": [
    "pd.options.display.max_columns=100"
   ]
  },
  {
   "cell_type": "code",
   "execution_count": 15,
   "metadata": {},
   "outputs": [],
   "source": [
    "# df.sort_values(by=['yr_built'],ascending=False)\n",
    "# df['yr_built'].value_counts()\n",
    "# df.loc[df['yr_built']==1900]"
   ]
  },
  {
   "cell_type": "code",
   "execution_count": 16,
   "metadata": {},
   "outputs": [],
   "source": [
    "# df_test = df.duplicated(subset=None, keep='first')"
   ]
  },
  {
   "cell_type": "code",
   "execution_count": 17,
   "metadata": {
    "scrolled": true
   },
   "outputs": [],
   "source": [
    "# df_test.value_counts()"
   ]
  },
  {
   "cell_type": "code",
   "execution_count": 18,
   "metadata": {
    "scrolled": true
   },
   "outputs": [],
   "source": [
    "# df.isna().sum()"
   ]
  },
  {
   "cell_type": "code",
   "execution_count": 19,
   "metadata": {},
   "outputs": [],
   "source": [
    "# df['waterfront'].unique()"
   ]
  },
  {
   "cell_type": "code",
   "execution_count": 20,
   "metadata": {},
   "outputs": [],
   "source": [
    "# df['waterfront'].value_counts()"
   ]
  },
  {
   "cell_type": "code",
   "execution_count": 172,
   "metadata": {},
   "outputs": [],
   "source": [
    "df['waterfront'].fillna(value=0,inplace=True)"
   ]
  },
  {
   "cell_type": "code",
   "execution_count": 22,
   "metadata": {},
   "outputs": [],
   "source": [
    "# df['waterfront'].value_counts()"
   ]
  },
  {
   "cell_type": "code",
   "execution_count": 173,
   "metadata": {},
   "outputs": [],
   "source": [
    "df['yr_renovated'].fillna(value=0,inplace=True)"
   ]
  },
  {
   "cell_type": "code",
   "execution_count": 24,
   "metadata": {
    "scrolled": true
   },
   "outputs": [],
   "source": [
    "# df.isna().sum()"
   ]
  },
  {
   "cell_type": "code",
   "execution_count": 174,
   "metadata": {},
   "outputs": [],
   "source": [
    "df.dropna(subset=['view'],inplace=True)"
   ]
  },
  {
   "cell_type": "code",
   "execution_count": 26,
   "metadata": {},
   "outputs": [
    {
     "data": {
      "text/plain": [
       "id               0\n",
       "date             0\n",
       "price            0\n",
       "bedrooms         0\n",
       "bathrooms        0\n",
       "sqft_living      0\n",
       "sqft_lot         0\n",
       "floors           0\n",
       "waterfront       0\n",
       "view             0\n",
       "condition        0\n",
       "grade            0\n",
       "sqft_above       0\n",
       "sqft_basement    0\n",
       "yr_built         0\n",
       "yr_renovated     0\n",
       "zipcode          0\n",
       "lat              0\n",
       "long             0\n",
       "sqft_living15    0\n",
       "sqft_lot15       0\n",
       "dtype: int64"
      ]
     },
     "execution_count": 26,
     "metadata": {},
     "output_type": "execute_result"
    }
   ],
   "source": [
    "df.isna().sum()"
   ]
  },
  {
   "cell_type": "code",
   "execution_count": 175,
   "metadata": {},
   "outputs": [],
   "source": [
    "df['sqft_basement'].replace(to_replace = '?', value = df['sqft_living'] - df['sqft_above'], inplace=True)"
   ]
  },
  {
   "cell_type": "code",
   "execution_count": 28,
   "metadata": {},
   "outputs": [],
   "source": [
    "# df['sqft_basement'].unique()"
   ]
  },
  {
   "cell_type": "code",
   "execution_count": 176,
   "metadata": {},
   "outputs": [],
   "source": [
    "df['sqft_basement'] = df['sqft_basement'].astype(\"float32\")"
   ]
  },
  {
   "cell_type": "code",
   "execution_count": 177,
   "metadata": {},
   "outputs": [],
   "source": [
    "df1 = df.drop(columns=['date'])"
   ]
  },
  {
   "cell_type": "code",
   "execution_count": 178,
   "metadata": {},
   "outputs": [
    {
     "data": {
      "text/plain": [
       "<matplotlib.axes._subplots.AxesSubplot at 0x1a2a837990>"
      ]
     },
     "execution_count": 178,
     "metadata": {},
     "output_type": "execute_result"
    },
    {
     "data": {
      "image/png": "[encoded data removed]",
      "text/plain": [
       "<Figure size 1440x1440 with 2 Axes>"
      ]
     },
     "metadata": {
      "needs_background": "light"
     },
     "output_type": "display_data"
    }
   ],
   "source": [
    "plt.figure(figsize = (20,20))\n",
    "sns.heatmap(df1.corr())"
   ]
  },
  {
   "cell_type": "code",
   "execution_count": 179,
   "metadata": {},
   "outputs": [],
   "source": [
    "target = \"price\"\n",
    "used_cols = [c for c in df1.columns.to_list() if c not in [target]]\n",
    "\n",
    "X = df1[used_cols]\n",
    "y = df1[target]"
   ]
  },
  {
   "cell_type": "code",
   "execution_count": 180,
   "metadata": {
    "scrolled": true
   },
   "outputs": [
    {
     "data": {
      "text/plain": [
       "price            1.000000\n",
       "sqft_living      0.701587\n",
       "grade            0.668307\n",
       "sqft_above       0.605695\n",
       "sqft_living15    0.585304\n",
       "bathrooms        0.525053\n",
       "view             0.395734\n",
       "sqft_basement    0.321816\n",
       "bedrooms         0.315229\n",
       "lat              0.307868\n",
       "waterfront       0.259220\n",
       "floors           0.257052\n",
       "yr_renovated     0.117982\n",
       "sqft_lot         0.090338\n",
       "sqft_lot15       0.083189\n",
       "yr_built         0.054273\n",
       "zipcode          0.053620\n",
       "condition        0.035393\n",
       "long             0.022417\n",
       "id               0.017392\n",
       "Name: price, dtype: float64"
      ]
     },
     "execution_count": 180,
     "metadata": {},
     "output_type": "execute_result"
    }
   ],
   "source": [
    "df.corr()[target].abs().sort_values(ascending=False)"
   ]
  },
  {
   "cell_type": "code",
   "execution_count": 34,
   "metadata": {},
   "outputs": [],
   "source": [
    "# result = pd.DataFrame({'Model': [],\n",
    "#                         'Details':[],\n",
    "#                         'Root Mean Squared Error (RMSE)':[],\n",
    "#                         'R-squared (train)':[],\n",
    "#                         'R-squared (test)':[],\n",
    "#                         '3-Fold Cross Validation':[]})"
   ]
  },
  {
   "cell_type": "code",
   "execution_count": 181,
   "metadata": {},
   "outputs": [],
   "source": [
    "scaler = RobustScaler()\n",
    "lr = LinearRegression()\n",
    "pipe1 = make_pipeline(scaler, lr)\n",
    "\n",
    "metrics = ['r2', 'neg_mean_squared_error']\n",
    "    \n",
    "cv = cross_validate(pipe1, X, y, cv=3, n_jobs=-1, scoring=metrics,return_train_score=True)"
   ]
  },
  {
   "cell_type": "code",
   "execution_count": 182,
   "metadata": {},
   "outputs": [
    {
     "data": {
      "text/plain": [
       "['fit_time',\n",
       " 'score_time',\n",
       " 'test_neg_mean_squared_error',\n",
       " 'test_r2',\n",
       " 'train_neg_mean_squared_error',\n",
       " 'train_r2']"
      ]
     },
     "execution_count": 182,
     "metadata": {},
     "output_type": "execute_result"
    }
   ],
   "source": [
    "sorted(cv.keys())"
   ]
  },
  {
   "cell_type": "code",
   "execution_count": 183,
   "metadata": {},
   "outputs": [
    {
     "data": {
      "text/plain": [
       "0.6954963579543829"
      ]
     },
     "execution_count": 183,
     "metadata": {},
     "output_type": "execute_result"
    }
   ],
   "source": [
    "cv['test_r2'].mean()"
   ]
  },
  {
   "cell_type": "code",
   "execution_count": 184,
   "metadata": {},
   "outputs": [
    {
     "data": {
      "text/plain": [
       "0.7014500841259427"
      ]
     },
     "execution_count": 184,
     "metadata": {},
     "output_type": "execute_result"
    }
   ],
   "source": [
    "cv['train_r2'].mean()"
   ]
  },
  {
   "cell_type": "markdown",
   "metadata": {},
   "source": [
    "## Let’s dig deeper on 'sq_ft living'"
   ]
  },
  {
   "cell_type": "code",
   "execution_count": 44,
   "metadata": {},
   "outputs": [
    {
     "data": {
      "text/plain": [
       "count    21534.000000\n",
       "mean      2079.827854\n",
       "std        917.446520\n",
       "min        370.000000\n",
       "25%       1430.000000\n",
       "50%       1910.000000\n",
       "75%       2550.000000\n",
       "max      13540.000000\n",
       "Name: sqft_living, dtype: float64"
      ]
     },
     "execution_count": 44,
     "metadata": {},
     "output_type": "execute_result"
    }
   ],
   "source": [
    "df1['sqft_living'].describe()"
   ]
  },
  {
   "cell_type": "code",
   "execution_count": 45,
   "metadata": {},
   "outputs": [],
   "source": [
    "sqft_pivot = df1.pivot_table(index='sqft_living',\n",
    "                  values='price', aggfunc=np.median)"
   ]
  },
  {
   "cell_type": "code",
   "execution_count": 46,
   "metadata": {},
   "outputs": [
    {
     "data": {
      "text/html": [
       "<div>\n",
       "<style scoped>\n",
       "    .dataframe tbody tr th:only-of-type {\n",
       "        vertical-align: middle;\n",
       "    }\n",
       "\n",
       "    .dataframe tbody tr th {\n",
       "        vertical-align: top;\n",
       "    }\n",
       "\n",
       "    .dataframe thead th {\n",
       "        text-align: right;\n",
       "    }\n",
       "</style>\n",
       "<table border=\"1\" class=\"dataframe\">\n",
       "  <thead>\n",
       "    <tr style=\"text-align: right;\">\n",
       "      <th></th>\n",
       "      <th>price</th>\n",
       "    </tr>\n",
       "    <tr>\n",
       "      <th>sqft_living</th>\n",
       "      <th></th>\n",
       "    </tr>\n",
       "  </thead>\n",
       "  <tbody>\n",
       "    <tr>\n",
       "      <td>370</td>\n",
       "      <td>276000.0</td>\n",
       "    </tr>\n",
       "    <tr>\n",
       "      <td>380</td>\n",
       "      <td>245000.0</td>\n",
       "    </tr>\n",
       "    <tr>\n",
       "      <td>390</td>\n",
       "      <td>245000.0</td>\n",
       "    </tr>\n",
       "    <tr>\n",
       "      <td>410</td>\n",
       "      <td>325000.0</td>\n",
       "    </tr>\n",
       "    <tr>\n",
       "      <td>420</td>\n",
       "      <td>254525.0</td>\n",
       "    </tr>\n",
       "    <tr>\n",
       "      <td>...</td>\n",
       "      <td>...</td>\n",
       "    </tr>\n",
       "    <tr>\n",
       "      <td>9640</td>\n",
       "      <td>4670000.0</td>\n",
       "    </tr>\n",
       "    <tr>\n",
       "      <td>9890</td>\n",
       "      <td>6890000.0</td>\n",
       "    </tr>\n",
       "    <tr>\n",
       "      <td>10040</td>\n",
       "      <td>7060000.0</td>\n",
       "    </tr>\n",
       "    <tr>\n",
       "      <td>12050</td>\n",
       "      <td>7700000.0</td>\n",
       "    </tr>\n",
       "    <tr>\n",
       "      <td>13540</td>\n",
       "      <td>2280000.0</td>\n",
       "    </tr>\n",
       "  </tbody>\n",
       "</table>\n",
       "<p>1033 rows × 1 columns</p>\n",
       "</div>"
      ],
      "text/plain": [
       "                 price\n",
       "sqft_living           \n",
       "370           276000.0\n",
       "380           245000.0\n",
       "390           245000.0\n",
       "410           325000.0\n",
       "420           254525.0\n",
       "...                ...\n",
       "9640         4670000.0\n",
       "9890         6890000.0\n",
       "10040        7060000.0\n",
       "12050        7700000.0\n",
       "13540        2280000.0\n",
       "\n",
       "[1033 rows x 1 columns]"
      ]
     },
     "execution_count": 46,
     "metadata": {},
     "output_type": "execute_result"
    }
   ],
   "source": [
    "sqft_pivot"
   ]
  },
  {
   "cell_type": "code",
   "execution_count": 47,
   "metadata": {
    "scrolled": true
   },
   "outputs": [
    {
     "data": {
      "image/png": "[encoded data removed]",
      "text/plain": [
       "<Figure size 432x288 with 1 Axes>"
      ]
     },
     "metadata": {
      "needs_background": "light"
     },
     "output_type": "display_data"
    }
   ],
   "source": [
    "sqft_pivot.plot(kind='bar', color='blue')\n",
    "plt.xlabel('Sqft_living')\n",
    "plt.ylabel('price')\n",
    "plt.xticks(rotation=0)\n",
    "plt.show()\n"
   ]
  },
  {
   "cell_type": "code",
   "execution_count": 70,
   "metadata": {},
   "outputs": [
    {
     "data": {
      "text/plain": [
       "<matplotlib.axes._subplots.AxesSubplot at 0x1a2699f990>"
      ]
     },
     "execution_count": 70,
     "metadata": {},
     "output_type": "execute_result"
    },
    {
     "data": {
      "image/png": "[encoded data removed]",
      "text/plain": [
       "<Figure size 432x288 with 1 Axes>"
      ]
     },
     "metadata": {
      "needs_background": "light"
     },
     "output_type": "display_data"
    }
   ],
   "source": [
    "df1.plot(x='sqft_living', y='price',style='o')"
   ]
  },
  {
   "cell_type": "code",
   "execution_count": 67,
   "metadata": {
    "scrolled": true
   },
   "outputs": [
    {
     "data": {
      "text/plain": [
       "12764    13540\n",
       "7245     12050\n",
       "3910     10040\n",
       "9245      9890\n",
       "8085      9640\n",
       "         ...  \n",
       "11488      420\n",
       "8614       410\n",
       "21316      390\n",
       "860        380\n",
       "15367      370\n",
       "Name: sqft_living, Length: 21534, dtype: int64"
      ]
     },
     "execution_count": 67,
     "metadata": {},
     "output_type": "execute_result"
    }
   ],
   "source": [
    "df1['sqft_living'].sort_values(ascending=False)"
   ]
  },
  {
   "cell_type": "code",
   "execution_count": 185,
   "metadata": {},
   "outputs": [],
   "source": [
    "df2 = df1[df1['sqft_living'] < 8000]"
   ]
  },
  {
   "cell_type": "code",
   "execution_count": 186,
   "metadata": {},
   "outputs": [
    {
     "data": {
      "text/plain": [
       "<matplotlib.axes._subplots.AxesSubplot at 0x1a2a921990>"
      ]
     },
     "execution_count": 186,
     "metadata": {},
     "output_type": "execute_result"
    },
    {
     "data": {
      "image/png": "[encoded data removed]",
      "text/plain": [
       "<Figure size 432x288 with 1 Axes>"
      ]
     },
     "metadata": {
      "needs_background": "light"
     },
     "output_type": "display_data"
    }
   ],
   "source": [
    "df2.plot(x='sqft_living', y='price',style='o')"
   ]
  },
  {
   "cell_type": "code",
   "execution_count": 74,
   "metadata": {
    "scrolled": true
   },
   "outputs": [
    {
     "data": {
      "text/plain": [
       "<matplotlib.axes._subplots.AxesSubplot at 0x1a27f2ec90>"
      ]
     },
     "execution_count": 74,
     "metadata": {},
     "output_type": "execute_result"
    },
    {
     "data": {
      "image/png": "[encoded data removed]",
      "text/plain": [
       "<Figure size 432x288 with 1 Axes>"
      ]
     },
     "metadata": {
      "needs_background": "light"
     },
     "output_type": "display_data"
    }
   ],
   "source": [
    "df2.plot(x='grade', y='price', style='o')"
   ]
  },
  {
   "cell_type": "code",
   "execution_count": 76,
   "metadata": {},
   "outputs": [
    {
     "data": {
      "text/plain": [
       "array([ 7,  6,  8, 11,  9,  5, 10, 12,  4,  3, 13])"
      ]
     },
     "execution_count": 76,
     "metadata": {},
     "output_type": "execute_result"
    }
   ],
   "source": [
    "df2['grade'].unique()"
   ]
  },
  {
   "cell_type": "code",
   "execution_count": 77,
   "metadata": {
    "scrolled": true
   },
   "outputs": [
    {
     "name": "stdout",
     "output_type": "stream",
     "text": [
      "waterfront: \n",
      "\n",
      "0.0    21382\n",
      "1.0      142\n",
      "Name: waterfront, dtype: int64 \n",
      "\n"
     ]
    }
   ],
   "source": [
    "print (\"waterfront: \\n\")\n",
    "print (df2['waterfront'].value_counts(), \"\\n\")\n"
   ]
  },
  {
   "cell_type": "code",
   "execution_count": 79,
   "metadata": {},
   "outputs": [
    {
     "data": {
      "image/png": "[encoded data removed]",
      "text/plain": [
       "<Figure size 432x288 with 1 Axes>"
      ]
     },
     "metadata": {
      "needs_background": "light"
     },
     "output_type": "display_data"
    }
   ],
   "source": [
    "condition_pivot = df2.pivot_table(index='grade', values='price', aggfunc=np.median)\n",
    "condition_pivot.plot(kind='bar', color='blue')\n",
    "plt.xlabel('grade')\n",
    "plt.ylabel('price')\n",
    "plt.xticks(rotation=0)\n",
    "plt.show()\n",
    "\n",
    "#13 is significantly higher than others"
   ]
  },
  {
   "cell_type": "code",
   "execution_count": 187,
   "metadata": {},
   "outputs": [],
   "source": [
    "def encode(x):\n",
    "    return 1 if x == 13 else 0\n",
    "\n",
    "df2['enc_grade'] = df2['grade'].apply(encode)\n",
    " "
   ]
  },
  {
   "cell_type": "code",
   "execution_count": 95,
   "metadata": {},
   "outputs": [
    {
     "data": {
      "text/html": [
       "<div>\n",
       "<style scoped>\n",
       "    .dataframe tbody tr th:only-of-type {\n",
       "        vertical-align: middle;\n",
       "    }\n",
       "\n",
       "    .dataframe tbody tr th {\n",
       "        vertical-align: top;\n",
       "    }\n",
       "\n",
       "    .dataframe thead th {\n",
       "        text-align: right;\n",
       "    }\n",
       "</style>\n",
       "<table border=\"1\" class=\"dataframe\">\n",
       "  <thead>\n",
       "    <tr style=\"text-align: right;\">\n",
       "      <th></th>\n",
       "      <th>id</th>\n",
       "      <th>price</th>\n",
       "      <th>bedrooms</th>\n",
       "      <th>bathrooms</th>\n",
       "      <th>sqft_living</th>\n",
       "      <th>sqft_lot</th>\n",
       "      <th>floors</th>\n",
       "      <th>waterfront</th>\n",
       "      <th>view</th>\n",
       "      <th>condition</th>\n",
       "      <th>grade</th>\n",
       "      <th>sqft_above</th>\n",
       "      <th>sqft_basement</th>\n",
       "      <th>yr_built</th>\n",
       "      <th>yr_renovated</th>\n",
       "      <th>zipcode</th>\n",
       "      <th>lat</th>\n",
       "      <th>long</th>\n",
       "      <th>sqft_living15</th>\n",
       "      <th>sqft_lot15</th>\n",
       "      <th>enc_grade</th>\n",
       "    </tr>\n",
       "  </thead>\n",
       "  <tbody>\n",
       "    <tr>\n",
       "      <td>0</td>\n",
       "      <td>7129300520</td>\n",
       "      <td>221900.0</td>\n",
       "      <td>3</td>\n",
       "      <td>1.00</td>\n",
       "      <td>1180</td>\n",
       "      <td>5650</td>\n",
       "      <td>1.0</td>\n",
       "      <td>0.0</td>\n",
       "      <td>0.0</td>\n",
       "      <td>3</td>\n",
       "      <td>7</td>\n",
       "      <td>1180</td>\n",
       "      <td>0.0</td>\n",
       "      <td>1955</td>\n",
       "      <td>0.0</td>\n",
       "      <td>98178</td>\n",
       "      <td>47.5112</td>\n",
       "      <td>-122.257</td>\n",
       "      <td>1340</td>\n",
       "      <td>5650</td>\n",
       "      <td>0</td>\n",
       "    </tr>\n",
       "    <tr>\n",
       "      <td>1</td>\n",
       "      <td>6414100192</td>\n",
       "      <td>538000.0</td>\n",
       "      <td>3</td>\n",
       "      <td>2.25</td>\n",
       "      <td>2570</td>\n",
       "      <td>7242</td>\n",
       "      <td>2.0</td>\n",
       "      <td>0.0</td>\n",
       "      <td>0.0</td>\n",
       "      <td>3</td>\n",
       "      <td>7</td>\n",
       "      <td>2170</td>\n",
       "      <td>400.0</td>\n",
       "      <td>1951</td>\n",
       "      <td>1991.0</td>\n",
       "      <td>98125</td>\n",
       "      <td>47.7210</td>\n",
       "      <td>-122.319</td>\n",
       "      <td>1690</td>\n",
       "      <td>7639</td>\n",
       "      <td>0</td>\n",
       "    </tr>\n",
       "    <tr>\n",
       "      <td>2</td>\n",
       "      <td>5631500400</td>\n",
       "      <td>180000.0</td>\n",
       "      <td>2</td>\n",
       "      <td>1.00</td>\n",
       "      <td>770</td>\n",
       "      <td>10000</td>\n",
       "      <td>1.0</td>\n",
       "      <td>0.0</td>\n",
       "      <td>0.0</td>\n",
       "      <td>3</td>\n",
       "      <td>6</td>\n",
       "      <td>770</td>\n",
       "      <td>0.0</td>\n",
       "      <td>1933</td>\n",
       "      <td>0.0</td>\n",
       "      <td>98028</td>\n",
       "      <td>47.7379</td>\n",
       "      <td>-122.233</td>\n",
       "      <td>2720</td>\n",
       "      <td>8062</td>\n",
       "      <td>0</td>\n",
       "    </tr>\n",
       "    <tr>\n",
       "      <td>3</td>\n",
       "      <td>2487200875</td>\n",
       "      <td>604000.0</td>\n",
       "      <td>4</td>\n",
       "      <td>3.00</td>\n",
       "      <td>1960</td>\n",
       "      <td>5000</td>\n",
       "      <td>1.0</td>\n",
       "      <td>0.0</td>\n",
       "      <td>0.0</td>\n",
       "      <td>5</td>\n",
       "      <td>7</td>\n",
       "      <td>1050</td>\n",
       "      <td>910.0</td>\n",
       "      <td>1965</td>\n",
       "      <td>0.0</td>\n",
       "      <td>98136</td>\n",
       "      <td>47.5208</td>\n",
       "      <td>-122.393</td>\n",
       "      <td>1360</td>\n",
       "      <td>5000</td>\n",
       "      <td>0</td>\n",
       "    </tr>\n",
       "    <tr>\n",
       "      <td>4</td>\n",
       "      <td>1954400510</td>\n",
       "      <td>510000.0</td>\n",
       "      <td>3</td>\n",
       "      <td>2.00</td>\n",
       "      <td>1680</td>\n",
       "      <td>8080</td>\n",
       "      <td>1.0</td>\n",
       "      <td>0.0</td>\n",
       "      <td>0.0</td>\n",
       "      <td>3</td>\n",
       "      <td>8</td>\n",
       "      <td>1680</td>\n",
       "      <td>0.0</td>\n",
       "      <td>1987</td>\n",
       "      <td>0.0</td>\n",
       "      <td>98074</td>\n",
       "      <td>47.6168</td>\n",
       "      <td>-122.045</td>\n",
       "      <td>1800</td>\n",
       "      <td>7503</td>\n",
       "      <td>0</td>\n",
       "    </tr>\n",
       "    <tr>\n",
       "      <td>...</td>\n",
       "      <td>...</td>\n",
       "      <td>...</td>\n",
       "      <td>...</td>\n",
       "      <td>...</td>\n",
       "      <td>...</td>\n",
       "      <td>...</td>\n",
       "      <td>...</td>\n",
       "      <td>...</td>\n",
       "      <td>...</td>\n",
       "      <td>...</td>\n",
       "      <td>...</td>\n",
       "      <td>...</td>\n",
       "      <td>...</td>\n",
       "      <td>...</td>\n",
       "      <td>...</td>\n",
       "      <td>...</td>\n",
       "      <td>...</td>\n",
       "      <td>...</td>\n",
       "      <td>...</td>\n",
       "      <td>...</td>\n",
       "      <td>...</td>\n",
       "    </tr>\n",
       "    <tr>\n",
       "      <td>21592</td>\n",
       "      <td>263000018</td>\n",
       "      <td>360000.0</td>\n",
       "      <td>3</td>\n",
       "      <td>2.50</td>\n",
       "      <td>1530</td>\n",
       "      <td>1131</td>\n",
       "      <td>3.0</td>\n",
       "      <td>0.0</td>\n",
       "      <td>0.0</td>\n",
       "      <td>3</td>\n",
       "      <td>8</td>\n",
       "      <td>1530</td>\n",
       "      <td>0.0</td>\n",
       "      <td>2009</td>\n",
       "      <td>0.0</td>\n",
       "      <td>98103</td>\n",
       "      <td>47.6993</td>\n",
       "      <td>-122.346</td>\n",
       "      <td>1530</td>\n",
       "      <td>1509</td>\n",
       "      <td>0</td>\n",
       "    </tr>\n",
       "    <tr>\n",
       "      <td>21593</td>\n",
       "      <td>6600060120</td>\n",
       "      <td>400000.0</td>\n",
       "      <td>4</td>\n",
       "      <td>2.50</td>\n",
       "      <td>2310</td>\n",
       "      <td>5813</td>\n",
       "      <td>2.0</td>\n",
       "      <td>0.0</td>\n",
       "      <td>0.0</td>\n",
       "      <td>3</td>\n",
       "      <td>8</td>\n",
       "      <td>2310</td>\n",
       "      <td>0.0</td>\n",
       "      <td>2014</td>\n",
       "      <td>0.0</td>\n",
       "      <td>98146</td>\n",
       "      <td>47.5107</td>\n",
       "      <td>-122.362</td>\n",
       "      <td>1830</td>\n",
       "      <td>7200</td>\n",
       "      <td>0</td>\n",
       "    </tr>\n",
       "    <tr>\n",
       "      <td>21594</td>\n",
       "      <td>1523300141</td>\n",
       "      <td>402101.0</td>\n",
       "      <td>2</td>\n",
       "      <td>0.75</td>\n",
       "      <td>1020</td>\n",
       "      <td>1350</td>\n",
       "      <td>2.0</td>\n",
       "      <td>0.0</td>\n",
       "      <td>0.0</td>\n",
       "      <td>3</td>\n",
       "      <td>7</td>\n",
       "      <td>1020</td>\n",
       "      <td>0.0</td>\n",
       "      <td>2009</td>\n",
       "      <td>0.0</td>\n",
       "      <td>98144</td>\n",
       "      <td>47.5944</td>\n",
       "      <td>-122.299</td>\n",
       "      <td>1020</td>\n",
       "      <td>2007</td>\n",
       "      <td>0</td>\n",
       "    </tr>\n",
       "    <tr>\n",
       "      <td>21595</td>\n",
       "      <td>291310100</td>\n",
       "      <td>400000.0</td>\n",
       "      <td>3</td>\n",
       "      <td>2.50</td>\n",
       "      <td>1600</td>\n",
       "      <td>2388</td>\n",
       "      <td>2.0</td>\n",
       "      <td>0.0</td>\n",
       "      <td>0.0</td>\n",
       "      <td>3</td>\n",
       "      <td>8</td>\n",
       "      <td>1600</td>\n",
       "      <td>0.0</td>\n",
       "      <td>2004</td>\n",
       "      <td>0.0</td>\n",
       "      <td>98027</td>\n",
       "      <td>47.5345</td>\n",
       "      <td>-122.069</td>\n",
       "      <td>1410</td>\n",
       "      <td>1287</td>\n",
       "      <td>0</td>\n",
       "    </tr>\n",
       "    <tr>\n",
       "      <td>21596</td>\n",
       "      <td>1523300157</td>\n",
       "      <td>325000.0</td>\n",
       "      <td>2</td>\n",
       "      <td>0.75</td>\n",
       "      <td>1020</td>\n",
       "      <td>1076</td>\n",
       "      <td>2.0</td>\n",
       "      <td>0.0</td>\n",
       "      <td>0.0</td>\n",
       "      <td>3</td>\n",
       "      <td>7</td>\n",
       "      <td>1020</td>\n",
       "      <td>0.0</td>\n",
       "      <td>2008</td>\n",
       "      <td>0.0</td>\n",
       "      <td>98144</td>\n",
       "      <td>47.5941</td>\n",
       "      <td>-122.299</td>\n",
       "      <td>1020</td>\n",
       "      <td>1357</td>\n",
       "      <td>0</td>\n",
       "    </tr>\n",
       "  </tbody>\n",
       "</table>\n",
       "<p>21524 rows × 21 columns</p>\n",
       "</div>"
      ],
      "text/plain": [
       "               id     price  bedrooms  bathrooms  sqft_living  sqft_lot  \\\n",
       "0      7129300520  221900.0         3       1.00         1180      5650   \n",
       "1      6414100192  538000.0         3       2.25         2570      7242   \n",
       "2      5631500400  180000.0         2       1.00          770     10000   \n",
       "3      2487200875  604000.0         4       3.00         1960      5000   \n",
       "4      1954400510  510000.0         3       2.00         1680      8080   \n",
       "...           ...       ...       ...        ...          ...       ...   \n",
       "21592   263000018  360000.0         3       2.50         1530      1131   \n",
       "21593  6600060120  400000.0         4       2.50         2310      5813   \n",
       "21594  1523300141  402101.0         2       0.75         1020      1350   \n",
       "21595   291310100  400000.0         3       2.50         1600      2388   \n",
       "21596  1523300157  325000.0         2       0.75         1020      1076   \n",
       "\n",
       "       floors  waterfront  view  condition  grade  sqft_above  sqft_basement  \\\n",
       "0         1.0         0.0   0.0          3      7        1180            0.0   \n",
       "1         2.0         0.0   0.0          3      7        2170          400.0   \n",
       "2         1.0         0.0   0.0          3      6         770            0.0   \n",
       "3         1.0         0.0   0.0          5      7        1050          910.0   \n",
       "4         1.0         0.0   0.0          3      8        1680            0.0   \n",
       "...       ...         ...   ...        ...    ...         ...            ...   \n",
       "21592     3.0         0.0   0.0          3      8        1530            0.0   \n",
       "21593     2.0         0.0   0.0          3      8        2310            0.0   \n",
       "21594     2.0         0.0   0.0          3      7        1020            0.0   \n",
       "21595     2.0         0.0   0.0          3      8        1600            0.0   \n",
       "21596     2.0         0.0   0.0          3      7        1020            0.0   \n",
       "\n",
       "       yr_built  yr_renovated  zipcode      lat     long  sqft_living15  \\\n",
       "0          1955           0.0    98178  47.5112 -122.257           1340   \n",
       "1          1951        1991.0    98125  47.7210 -122.319           1690   \n",
       "2          1933           0.0    98028  47.7379 -122.233           2720   \n",
       "3          1965           0.0    98136  47.5208 -122.393           1360   \n",
       "4          1987           0.0    98074  47.6168 -122.045           1800   \n",
       "...         ...           ...      ...      ...      ...            ...   \n",
       "21592      2009           0.0    98103  47.6993 -122.346           1530   \n",
       "21593      2014           0.0    98146  47.5107 -122.362           1830   \n",
       "21594      2009           0.0    98144  47.5944 -122.299           1020   \n",
       "21595      2004           0.0    98027  47.5345 -122.069           1410   \n",
       "21596      2008           0.0    98144  47.5941 -122.299           1020   \n",
       "\n",
       "       sqft_lot15  enc_grade  \n",
       "0            5650          0  \n",
       "1            7639          0  \n",
       "2            8062          0  \n",
       "3            5000          0  \n",
       "4            7503          0  \n",
       "...           ...        ...  \n",
       "21592        1509          0  \n",
       "21593        7200          0  \n",
       "21594        2007          0  \n",
       "21595        1287          0  \n",
       "21596        1357          0  \n",
       "\n",
       "[21524 rows x 21 columns]"
      ]
     },
     "execution_count": 95,
     "metadata": {},
     "output_type": "execute_result"
    }
   ],
   "source": [
    "df2"
   ]
  },
  {
   "cell_type": "code",
   "execution_count": 96,
   "metadata": {
    "scrolled": true
   },
   "outputs": [
    {
     "data": {
      "image/png": "[encoded data removed]",
      "text/plain": [
       "<Figure size 432x288 with 1 Axes>"
      ]
     },
     "metadata": {
      "needs_background": "light"
     },
     "output_type": "display_data"
    }
   ],
   "source": [
    "condition_pivot = df2.pivot_table(index='enc_grade', values='price', aggfunc=np.median)\n",
    "condition_pivot.plot(kind='bar', color='blue')\n",
    "plt.xlabel('Encoded grade')\n",
    "plt.ylabel('Price')\n",
    "plt.xticks(rotation=0)\n",
    "plt.show()"
   ]
  },
  {
   "cell_type": "code",
   "execution_count": 188,
   "metadata": {},
   "outputs": [],
   "source": [
    "used_cols1 = [c for c in df2.columns.to_list() if c not in [target]]\n",
    "\n",
    "X1 = df2[used_cols1]\n",
    "y1 = df2[target]\n",
    "scaler = RobustScaler()\n",
    "lr = LinearRegression()\n",
    "pipe1 = make_pipeline(scaler, lr)\n",
    "\n",
    "metrics = ['r2', 'neg_mean_squared_error']\n",
    "    \n",
    "cv1 = cross_validate(pipe1, X1, y1, cv=3, n_jobs=-1, scoring=metrics,return_train_score=True)"
   ]
  },
  {
   "cell_type": "code",
   "execution_count": 189,
   "metadata": {},
   "outputs": [
    {
     "data": {
      "text/plain": [
       "0.7027535380265387"
      ]
     },
     "execution_count": 189,
     "metadata": {},
     "output_type": "execute_result"
    }
   ],
   "source": [
    "cv1['test_r2'].mean()"
   ]
  },
  {
   "cell_type": "code",
   "execution_count": 190,
   "metadata": {},
   "outputs": [
    {
     "data": {
      "text/plain": [
       "0.7086357560892281"
      ]
     },
     "execution_count": 190,
     "metadata": {},
     "output_type": "execute_result"
    }
   ],
   "source": [
    "cv1['train_r2'].mean()"
   ]
  },
  {
   "cell_type": "code",
   "execution_count": 191,
   "metadata": {},
   "outputs": [],
   "source": [
    "df3 = df2.copy()\n",
    "df3.drop(columns=['sqft_above','sqft_basement'],inplace=True)\n"
   ]
  },
  {
   "cell_type": "code",
   "execution_count": 192,
   "metadata": {},
   "outputs": [],
   "source": [
    "used_cols2 = [c for c in df3.columns.to_list() if c not in [target]]\n",
    "\n",
    "X2 = df3[used_cols2]\n",
    "y2 = df3[target]\n",
    "scaler = RobustScaler()\n",
    "lr = LinearRegression()\n",
    "pipe2 = make_pipeline(scaler, lr)\n",
    "\n",
    "metrics = ['r2', 'neg_mean_squared_error']\n",
    "    \n",
    "cv2 = cross_validate(pipe2, X2, y2, cv=3, n_jobs=-1, scoring=metrics,return_train_score=True)"
   ]
  },
  {
   "cell_type": "code",
   "execution_count": 193,
   "metadata": {},
   "outputs": [
    {
     "data": {
      "text/plain": [
       "0.7025401330629494"
      ]
     },
     "execution_count": 193,
     "metadata": {},
     "output_type": "execute_result"
    }
   ],
   "source": [
    "cv2['test_r2'].mean()"
   ]
  },
  {
   "cell_type": "code",
   "execution_count": 194,
   "metadata": {},
   "outputs": [
    {
     "data": {
      "text/plain": [
       "0.70814296250503"
      ]
     },
     "execution_count": 194,
     "metadata": {},
     "output_type": "execute_result"
    }
   ],
   "source": [
    "cv2['train_r2'].mean()"
   ]
  },
  {
   "cell_type": "code",
   "execution_count": 50,
   "metadata": {},
   "outputs": [],
   "source": [
    "# df['bathrooms'].describe()"
   ]
  },
  {
   "cell_type": "code",
   "execution_count": 51,
   "metadata": {},
   "outputs": [],
   "source": [
    "# df['bathrooms'].unique()"
   ]
  },
  {
   "cell_type": "code",
   "execution_count": 52,
   "metadata": {
    "scrolled": true
   },
   "outputs": [],
   "source": [
    "# df['bathrooms'].value_counts()"
   ]
  },
  {
   "cell_type": "markdown",
   "metadata": {},
   "source": [
    "## Tranforming Data"
   ]
  },
  {
   "cell_type": "code",
   "execution_count": 195,
   "metadata": {},
   "outputs": [],
   "source": [
    "from sklearn.preprocessing import quantile_transform, QuantileTransformer\n",
    "from sklearn.compose import TransformedTargetRegressor"
   ]
  },
  {
   "cell_type": "code",
   "execution_count": 196,
   "metadata": {},
   "outputs": [
    {
     "data": {
      "text/html": [
       "<div>\n",
       "<style scoped>\n",
       "    .dataframe tbody tr th:only-of-type {\n",
       "        vertical-align: middle;\n",
       "    }\n",
       "\n",
       "    .dataframe tbody tr th {\n",
       "        vertical-align: top;\n",
       "    }\n",
       "\n",
       "    .dataframe thead th {\n",
       "        text-align: right;\n",
       "    }\n",
       "</style>\n",
       "<table border=\"1\" class=\"dataframe\">\n",
       "  <thead>\n",
       "    <tr style=\"text-align: right;\">\n",
       "      <th></th>\n",
       "      <th>id</th>\n",
       "      <th>bedrooms</th>\n",
       "      <th>bathrooms</th>\n",
       "      <th>sqft_living</th>\n",
       "      <th>sqft_lot</th>\n",
       "      <th>floors</th>\n",
       "      <th>waterfront</th>\n",
       "      <th>view</th>\n",
       "      <th>condition</th>\n",
       "      <th>grade</th>\n",
       "      <th>sqft_above</th>\n",
       "      <th>sqft_basement</th>\n",
       "      <th>yr_built</th>\n",
       "      <th>yr_renovated</th>\n",
       "      <th>zipcode</th>\n",
       "      <th>lat</th>\n",
       "      <th>long</th>\n",
       "      <th>sqft_living15</th>\n",
       "      <th>sqft_lot15</th>\n",
       "      <th>enc_grade</th>\n",
       "    </tr>\n",
       "  </thead>\n",
       "  <tbody>\n",
       "    <tr>\n",
       "      <td>0</td>\n",
       "      <td>0.607335</td>\n",
       "      <td>-0.336038</td>\n",
       "      <td>-1.252120</td>\n",
       "      <td>-1.101506</td>\n",
       "      <td>-0.513412</td>\n",
       "      <td>-5.199338</td>\n",
       "      <td>-5.199338</td>\n",
       "      <td>-5.199338</td>\n",
       "      <td>-0.406724</td>\n",
       "      <td>-0.479506</td>\n",
       "      <td>-0.704369</td>\n",
       "      <td>-5.199338</td>\n",
       "      <td>-0.554923</td>\n",
       "      <td>-5.199338</td>\n",
       "      <td>1.642538</td>\n",
       "      <td>-0.445052</td>\n",
       "      <td>-0.085338</td>\n",
       "      <td>-1.030514</td>\n",
       "      <td>-0.512696</td>\n",
       "      <td>-5.199338</td>\n",
       "    </tr>\n",
       "    <tr>\n",
       "      <td>1</td>\n",
       "      <td>0.446100</td>\n",
       "      <td>-0.336038</td>\n",
       "      <td>0.066012</td>\n",
       "      <td>0.690751</td>\n",
       "      <td>-0.118923</td>\n",
       "      <td>0.804596</td>\n",
       "      <td>-5.199338</td>\n",
       "      <td>-5.199338</td>\n",
       "      <td>-0.406724</td>\n",
       "      <td>-0.479506</td>\n",
       "      <td>0.641338</td>\n",
       "      <td>0.490922</td>\n",
       "      <td>-0.699547</td>\n",
       "      <td>3.226360</td>\n",
       "      <td>0.855373</td>\n",
       "      <td>1.188697</td>\n",
       "      <td>-0.591201</td>\n",
       "      <td>-0.249943</td>\n",
       "      <td>0.003288</td>\n",
       "      <td>-5.199338</td>\n",
       "    </tr>\n",
       "    <tr>\n",
       "      <td>2</td>\n",
       "      <td>0.334556</td>\n",
       "      <td>-1.412188</td>\n",
       "      <td>-1.252120</td>\n",
       "      <td>-1.795367</td>\n",
       "      <td>0.556125</td>\n",
       "      <td>-5.199338</td>\n",
       "      <td>-5.199338</td>\n",
       "      <td>-5.199338</td>\n",
       "      <td>-0.406724</td>\n",
       "      <td>-1.412188</td>\n",
       "      <td>-1.717274</td>\n",
       "      <td>-5.199338</td>\n",
       "      <td>-1.127221</td>\n",
       "      <td>-5.199338</td>\n",
       "      <td>-0.835371</td>\n",
       "      <td>1.427873</td>\n",
       "      <td>0.007157</td>\n",
       "      <td>1.066239</td>\n",
       "      <td>0.160742</td>\n",
       "      <td>-5.199338</td>\n",
       "    </tr>\n",
       "    <tr>\n",
       "      <td>3</td>\n",
       "      <td>-0.523515</td>\n",
       "      <td>0.716498</td>\n",
       "      <td>1.252120</td>\n",
       "      <td>0.054978</td>\n",
       "      <td>-0.704369</td>\n",
       "      <td>-5.199338</td>\n",
       "      <td>-5.199338</td>\n",
       "      <td>-5.199338</td>\n",
       "      <td>5.199338</td>\n",
       "      <td>-0.479506</td>\n",
       "      <td>-1.030806</td>\n",
       "      <td>1.178502</td>\n",
       "      <td>-0.253347</td>\n",
       "      <td>-5.199338</td>\n",
       "      <td>1.047787</td>\n",
       "      <td>-0.389392</td>\n",
       "      <td>-1.646198</td>\n",
       "      <td>-0.976236</td>\n",
       "      <td>-0.734487</td>\n",
       "      <td>-5.199338</td>\n",
       "    </tr>\n",
       "    <tr>\n",
       "      <td>4</td>\n",
       "      <td>-0.745040</td>\n",
       "      <td>-0.336038</td>\n",
       "      <td>-0.132313</td>\n",
       "      <td>-0.294441</td>\n",
       "      <td>0.129840</td>\n",
       "      <td>-5.199338</td>\n",
       "      <td>-5.199338</td>\n",
       "      <td>-5.199338</td>\n",
       "      <td>-0.406724</td>\n",
       "      <td>0.406724</td>\n",
       "      <td>0.150484</td>\n",
       "      <td>-5.199338</td>\n",
       "      <td>0.371149</td>\n",
       "      <td>-5.199338</td>\n",
       "      <td>0.066012</td>\n",
       "      <td>0.236126</td>\n",
       "      <td>1.083835</td>\n",
       "      <td>-0.066012</td>\n",
       "      <td>-0.049675</td>\n",
       "      <td>-5.199338</td>\n",
       "    </tr>\n",
       "  </tbody>\n",
       "</table>\n",
       "</div>"
      ],
      "text/plain": [
       "         id  bedrooms  bathrooms  sqft_living  sqft_lot    floors  waterfront  \\\n",
       "0  0.607335 -0.336038  -1.252120    -1.101506 -0.513412 -5.199338   -5.199338   \n",
       "1  0.446100 -0.336038   0.066012     0.690751 -0.118923  0.804596   -5.199338   \n",
       "2  0.334556 -1.412188  -1.252120    -1.795367  0.556125 -5.199338   -5.199338   \n",
       "3 -0.523515  0.716498   1.252120     0.054978 -0.704369 -5.199338   -5.199338   \n",
       "4 -0.745040 -0.336038  -0.132313    -0.294441  0.129840 -5.199338   -5.199338   \n",
       "\n",
       "       view  condition     grade  sqft_above  sqft_basement  yr_built  \\\n",
       "0 -5.199338  -0.406724 -0.479506   -0.704369      -5.199338 -0.554923   \n",
       "1 -5.199338  -0.406724 -0.479506    0.641338       0.490922 -0.699547   \n",
       "2 -5.199338  -0.406724 -1.412188   -1.717274      -5.199338 -1.127221   \n",
       "3 -5.199338   5.199338 -0.479506   -1.030806       1.178502 -0.253347   \n",
       "4 -5.199338  -0.406724  0.406724    0.150484      -5.199338  0.371149   \n",
       "\n",
       "   yr_renovated   zipcode       lat      long  sqft_living15  sqft_lot15  \\\n",
       "0     -5.199338  1.642538 -0.445052 -0.085338      -1.030514   -0.512696   \n",
       "1      3.226360  0.855373  1.188697 -0.591201      -0.249943    0.003288   \n",
       "2     -5.199338 -0.835371  1.427873  0.007157       1.066239    0.160742   \n",
       "3     -5.199338  1.047787 -0.389392 -1.646198      -0.976236   -0.734487   \n",
       "4     -5.199338  0.066012  0.236126  1.083835      -0.066012   -0.049675   \n",
       "\n",
       "   enc_grade  \n",
       "0  -5.199338  \n",
       "1  -5.199338  \n",
       "2  -5.199338  \n",
       "3  -5.199338  \n",
       "4  -5.199338  "
      ]
     },
     "execution_count": 196,
     "metadata": {},
     "output_type": "execute_result"
    }
   ],
   "source": [
    "\n",
    "X_transformed = pd.DataFrame(quantile_transform(X1, n_quantiles=20, # see... binning again! \n",
    "                                                output_distribution='normal', \n",
    "                                                random_state=42), \n",
    "                             columns=used_cols1)\n",
    "\n",
    "X_transformed.head()"
   ]
  },
  {
   "cell_type": "code",
   "execution_count": 119,
   "metadata": {},
   "outputs": [],
   "source": [
    "transformer = QuantileTransformer(n_quantiles=20, output_distribution='normal', random_state=42)\n",
    "lr = LinearRegression()\n",
    "pipe3 = make_pipeline(transformer, lr)\n",
    "cv3 = cross_validate(pipe3, X_transformed, y1, cv=3, n_jobs=-1, scoring=metrics,return_train_score=True)\n",
    "\n",
    "\n",
    "# scores = cross_val_score(pipe, X, y, cv=5, scoring='r2')\n",
    "# print(\"R^2:\", scores.mean(), \"+/-\", scores.std())"
   ]
  },
  {
   "cell_type": "code",
   "execution_count": 197,
   "metadata": {},
   "outputs": [
    {
     "data": {
      "text/plain": [
       "0.5939818022106688"
      ]
     },
     "execution_count": 197,
     "metadata": {},
     "output_type": "execute_result"
    }
   ],
   "source": [
    "cv3['test_r2'].mean()"
   ]
  },
  {
   "cell_type": "markdown",
   "metadata": {},
   "source": [
    "## Ridge"
   ]
  },
  {
   "cell_type": "code",
   "execution_count": 198,
   "metadata": {
    "scrolled": true
   },
   "outputs": [
    {
     "name": "stdout",
     "output_type": "stream",
     "text": [
      "test r2 is 0.7027579651438348\n",
      "train r2 is 0.7086357010537601\n"
     ]
    }
   ],
   "source": [
    "lr = Ridge(alpha=0.025)\n",
    "\n",
    "pipe4 = make_pipeline(scaler, lr)\n",
    "cv4 = cross_validate(pipe4, X1 , y1, cv=3, n_jobs=-1, scoring=metrics,return_train_score=True)\n",
    "\n",
    "test = cv4['test_r2'].mean()  \n",
    "train= cv4['train_r2'].mean()  \n",
    "    \n",
    "print (f'test r2 is {test}')\n",
    "print (f'train r2 is {train}')"
   ]
  },
  {
   "cell_type": "markdown",
   "metadata": {},
   "source": [
    "## Lasso"
   ]
  },
  {
   "cell_type": "code",
   "execution_count": 199,
   "metadata": {},
   "outputs": [
    {
     "name": "stdout",
     "output_type": "stream",
     "text": [
      "test r2 is 0.7027537669202184\n",
      "train r2 is 0.7086357558586581\n"
     ]
    }
   ],
   "source": [
    "lasso = Lasso(alpha=0.1)\n",
    "pipe5 = make_pipeline(scaler, lasso)\n",
    "cv5 = cross_validate(pipe5, X1 , y1, cv=3, n_jobs=-1, scoring=metrics,return_train_score=True)\n",
    "\n",
    "test = cv5['test_r2'].mean()  \n",
    "train= cv5['train_r2'].mean()  \n",
    "    \n",
    "print (f'test r2 is {test}')\n",
    "print (f'train r2 is {train}')"
   ]
  },
  {
   "cell_type": "code",
   "execution_count": 200,
   "metadata": {},
   "outputs": [
    {
     "data": {
      "text/plain": [
       "<matplotlib.axes._subplots.AxesSubplot at 0x1a2aa052d0>"
      ]
     },
     "execution_count": 200,
     "metadata": {},
     "output_type": "execute_result"
    },
    {
     "data": {
      "image/png": "[encoded data removed]",
      "text/plain": [
       "<Figure size 1440x720 with 2 Axes>"
      ]
     },
     "metadata": {
      "needs_background": "light"
     },
     "output_type": "display_data"
    }
   ],
   "source": [
    "plt.figure(figsize = (20,10))\n",
    "sns.heatmap(df2.corr())"
   ]
  },
  {
   "cell_type": "code",
   "execution_count": 201,
   "metadata": {},
   "outputs": [],
   "source": [
    "# best first pass approach to dealing with multicolinearity:\n",
    "\n",
    "df3['sqft_liv_bathrooms'] = 0.5*df3['sqft_living'] + 0.5*df3['bathrooms']\n"
   ]
  },
  {
   "cell_type": "code",
   "execution_count": 202,
   "metadata": {},
   "outputs": [],
   "source": [
    "df3.drop(columns=['sqft_living','bathrooms'],inplace=True)"
   ]
  },
  {
   "cell_type": "code",
   "execution_count": 203,
   "metadata": {},
   "outputs": [
    {
     "name": "stdout",
     "output_type": "stream",
     "text": [
      "test r2 is 0.7006279459239124\n",
      "train r2 is 0.7061428828997913\n"
     ]
    }
   ],
   "source": [
    "used_cols2 = [c for c in df3.columns.to_list() if c not in [target]]\n",
    "\n",
    "X2 = df3[used_cols2]\n",
    "y2 = df3[target]\n",
    "scaler = RobustScaler()\n",
    "lr = LinearRegression()\n",
    "pipe2 = make_pipeline(scaler, lr)\n",
    "    \n",
    "cv2 = cross_validate(pipe2, X2, y2, cv=3, n_jobs=-1, scoring=metrics,return_train_score=True)\n",
    "\n",
    "test = cv2['test_r2'].mean()  \n",
    "train= cv2['train_r2'].mean()  \n",
    "    \n",
    "print (f'test r2 is {test}')\n",
    "print (f'train r2 is {train}')"
   ]
  },
  {
   "cell_type": "code",
   "execution_count": 152,
   "metadata": {},
   "outputs": [
    {
     "data": {
      "text/plain": [
       "<matplotlib.axes._subplots.AxesSubplot at 0x1a2aa485d0>"
      ]
     },
     "execution_count": 152,
     "metadata": {},
     "output_type": "execute_result"
    },
    {
     "data": {
      "image/png": "[encoded data removed]",
      "text/plain": [
       "<Figure size 1440x720 with 2 Axes>"
      ]
     },
     "metadata": {
      "needs_background": "light"
     },
     "output_type": "display_data"
    }
   ],
   "source": [
    "plt.figure(figsize = (20,10))\n",
    "sns.heatmap(df3.corr())"
   ]
  },
  {
   "cell_type": "code",
   "execution_count": 204,
   "metadata": {},
   "outputs": [
    {
     "name": "stdout",
     "output_type": "stream",
     "text": [
      "test r2 is 0.7006323757928783\n",
      "train r2 is 0.70614282730554\n"
     ]
    }
   ],
   "source": [
    "used_cols2 = [c for c in df3.columns.to_list() if c not in [target]]\n",
    "\n",
    "X2 = df3[used_cols2]\n",
    "y2 = df3[target]\n",
    "lr = Ridge(alpha=0.025)\n",
    "\n",
    "pipe5 = make_pipeline(scaler, lr)\n",
    "cv5 = cross_validate(pipe5, X2 , y2, cv=3, n_jobs=-1, scoring=metrics,return_train_score=True)\n",
    "\n",
    "test = cv5['test_r2'].mean()  \n",
    "train= cv5['train_r2'].mean()  \n",
    "    \n",
    "print (f'test r2 is {test}')\n",
    "print (f'train r2 is {train}')"
   ]
  },
  {
   "cell_type": "code",
   "execution_count": 205,
   "metadata": {},
   "outputs": [],
   "source": [
    "df3['sqft_liv_bathrooms_liv15'] = 0.5*df3['sqft_liv_bathrooms'] + 0.5*df3['sqft_living15']"
   ]
  },
  {
   "cell_type": "code",
   "execution_count": 206,
   "metadata": {},
   "outputs": [],
   "source": [
    "df3.drop(columns=['sqft_liv_bathrooms','sqft_liv_bathrooms'],inplace=True)"
   ]
  },
  {
   "cell_type": "code",
   "execution_count": 207,
   "metadata": {},
   "outputs": [
    {
     "name": "stdout",
     "output_type": "stream",
     "text": [
      "test r2 is 0.7006279459239123\n",
      "train r2 is 0.7061428828997913\n"
     ]
    }
   ],
   "source": [
    "used_cols2 = [c for c in df3.columns.to_list() if c not in [target]]\n",
    "\n",
    "X2 = df3[used_cols2]\n",
    "y2 = df3[target]\n",
    "scaler = RobustScaler()\n",
    "lr = LinearRegression()\n",
    "pipe2 = make_pipeline(scaler, lr)\n",
    "    \n",
    "cv2 = cross_validate(pipe2, X2, y2, cv=3, n_jobs=-1, scoring=metrics,return_train_score=True)\n",
    "\n",
    "test = cv2['test_r2'].mean()  \n",
    "train= cv2['train_r2'].mean()  \n",
    "    \n",
    "print (f'test r2 is {test}')\n",
    "print (f'train r2 is {train}')"
   ]
  },
  {
   "cell_type": "code",
   "execution_count": 208,
   "metadata": {},
   "outputs": [
    {
     "name": "stdout",
     "output_type": "stream",
     "text": [
      "test r2 is 0.7006324544169678\n",
      "train r2 is 0.7061428274699013\n"
     ]
    }
   ],
   "source": [
    "lr = Ridge(alpha=0.025)\n",
    "\n",
    "pipe5 = make_pipeline(scaler, lr)\n",
    "cv5 = cross_validate(pipe5, X2 , y2, cv=3, n_jobs=-1, scoring=metrics,return_train_score=True)\n",
    "\n",
    "test = cv5['test_r2'].mean()  \n",
    "train= cv5['train_r2'].mean()  \n",
    "    \n",
    "print (f'test r2 is {test}')\n",
    "print (f'train r2 is {train}')"
   ]
  },
  {
   "cell_type": "code",
   "execution_count": 209,
   "metadata": {
    "scrolled": true
   },
   "outputs": [
    {
     "name": "stderr",
     "output_type": "stream",
     "text": [
      "100% (11 of 11) |########################| Elapsed Time: 0:01:43 Time:  0:01:43\n"
     ]
    },
    {
     "name": "stdout",
     "output_type": "stream",
     "text": [
      "LinearGAM                                                                                                 \n",
      "=============================================== ==========================================================\n",
      "Distribution:                        NormalDist Effective DoF:                                    299.3709\n",
      "Link Function:                     IdentityLink Log Likelihood:                               -531251.9618\n",
      "Number of Samples:                        21524 AIC:                                          1063104.6653\n",
      "                                                AICc:                                         1063113.1961\n",
      "                                                GCV:                                      21433602232.0657\n",
      "                                                Scale:                                    20897670586.3005\n",
      "                                                Pseudo R-Squared:                                   0.8325\n",
      "==========================================================================================================\n",
      "Feature Function                  Lambda               Rank         EDoF         P > x        Sig. Code   \n",
      "================================= ==================== ============ ============ ============ ============\n",
      "s(0)                              [0.001]              25           25.0         2.34e-13     ***         \n",
      "s(1)                              [0.001]              25           10.2         2.79e-12     ***         \n",
      "s(2)                              [0.001]              25           21.8         1.11e-16     ***         \n",
      "s(3)                              [0.001]              25           23.8         1.11e-16     ***         \n",
      "s(4)                              [0.001]              25           17.7         1.11e-16     ***         \n",
      "s(5)                              [0.001]              25           5.2          1.11e-16     ***         \n",
      "s(6)                              [0.001]              25           1.2          1.11e-16     ***         \n",
      "s(7)                              [0.001]              25           4.2          1.11e-16     ***         \n",
      "s(8)                              [0.001]              25           4.1          1.11e-16     ***         \n",
      "s(9)                              [0.001]              25           10.2         1.11e-16     ***         \n",
      "s(10)                             [0.001]              25           22.2         1.11e-16     ***         \n",
      "s(11)                             [0.001]              25           20.0         1.11e-16     ***         \n",
      "s(12)                             [0.001]              25           23.8         1.11e-16     ***         \n",
      "s(13)                             [0.001]              25           3.8          1.11e-16     ***         \n",
      "s(14)                             [0.001]              25           23.8         1.11e-16     ***         \n",
      "s(15)                             [0.001]              25           23.7         1.11e-16     ***         \n",
      "s(16)                             [0.001]              25           21.8         1.11e-16     ***         \n",
      "s(17)                             [0.001]              25           22.5         1.11e-16     ***         \n",
      "s(18)                             [0.001]              25           14.3         1.11e-16     ***         \n",
      "s(19)                             [0.001]              25           0.0          2.83e-04     ***         \n",
      "intercept                                              1            0.0          7.38e-05     ***         \n",
      "==========================================================================================================\n",
      "Significance codes:  0 '***' 0.001 '**' 0.01 '*' 0.05 '.' 0.1 ' ' 1\n",
      "\n",
      "WARNING: Fitting splines and a linear function to a feature introduces a model identifiability problem\n",
      "         which can cause p-values to appear significant when they are not.\n",
      "\n",
      "WARNING: p-values calculated in this manner behave correctly for un-penalized models or models with\n",
      "         known smoothing parameters, but when smoothing parameters have been estimated, the p-values\n",
      "         are typically lower than they should be, meaning that the tests reject the null too readily.\n"
     ]
    }
   ],
   "source": [
    "from pygam import LinearGAM\n",
    "\n",
    "gam = LinearGAM(n_splines=25)\n",
    "gam.gridsearch(X1.values, y1.values)\n",
    "gam.summary()\n"
   ]
  },
  {
   "cell_type": "code",
   "execution_count": 218,
   "metadata": {},
   "outputs": [],
   "source": [
    "df_gams = df2.copy()\n",
    "\n",
    "df_gams['lat_and_long'] = df_gams['long'] + df_gams['lat']"
   ]
  },
  {
   "cell_type": "code",
   "execution_count": 219,
   "metadata": {},
   "outputs": [
    {
     "data": {
      "text/html": [
       "<div>\n",
       "<style scoped>\n",
       "    .dataframe tbody tr th:only-of-type {\n",
       "        vertical-align: middle;\n",
       "    }\n",
       "\n",
       "    .dataframe tbody tr th {\n",
       "        vertical-align: top;\n",
       "    }\n",
       "\n",
       "    .dataframe thead th {\n",
       "        text-align: right;\n",
       "    }\n",
       "</style>\n",
       "<table border=\"1\" class=\"dataframe\">\n",
       "  <thead>\n",
       "    <tr style=\"text-align: right;\">\n",
       "      <th></th>\n",
       "      <th>id</th>\n",
       "      <th>price</th>\n",
       "      <th>bedrooms</th>\n",
       "      <th>bathrooms</th>\n",
       "      <th>sqft_living</th>\n",
       "      <th>sqft_lot</th>\n",
       "      <th>floors</th>\n",
       "      <th>waterfront</th>\n",
       "      <th>view</th>\n",
       "      <th>condition</th>\n",
       "      <th>grade</th>\n",
       "      <th>sqft_above</th>\n",
       "      <th>sqft_basement</th>\n",
       "      <th>yr_built</th>\n",
       "      <th>yr_renovated</th>\n",
       "      <th>zipcode</th>\n",
       "      <th>lat</th>\n",
       "      <th>long</th>\n",
       "      <th>sqft_living15</th>\n",
       "      <th>sqft_lot15</th>\n",
       "      <th>enc_grade</th>\n",
       "      <th>lat_and_long</th>\n",
       "    </tr>\n",
       "  </thead>\n",
       "  <tbody>\n",
       "    <tr>\n",
       "      <td>0</td>\n",
       "      <td>7129300520</td>\n",
       "      <td>221900.0</td>\n",
       "      <td>3</td>\n",
       "      <td>1.00</td>\n",
       "      <td>1180</td>\n",
       "      <td>5650</td>\n",
       "      <td>1.0</td>\n",
       "      <td>0.0</td>\n",
       "      <td>0.0</td>\n",
       "      <td>3</td>\n",
       "      <td>7</td>\n",
       "      <td>1180</td>\n",
       "      <td>0.0</td>\n",
       "      <td>1955</td>\n",
       "      <td>0.0</td>\n",
       "      <td>98178</td>\n",
       "      <td>47.5112</td>\n",
       "      <td>-122.257</td>\n",
       "      <td>1340</td>\n",
       "      <td>5650</td>\n",
       "      <td>0</td>\n",
       "      <td>-74.7458</td>\n",
       "    </tr>\n",
       "    <tr>\n",
       "      <td>1</td>\n",
       "      <td>6414100192</td>\n",
       "      <td>538000.0</td>\n",
       "      <td>3</td>\n",
       "      <td>2.25</td>\n",
       "      <td>2570</td>\n",
       "      <td>7242</td>\n",
       "      <td>2.0</td>\n",
       "      <td>0.0</td>\n",
       "      <td>0.0</td>\n",
       "      <td>3</td>\n",
       "      <td>7</td>\n",
       "      <td>2170</td>\n",
       "      <td>400.0</td>\n",
       "      <td>1951</td>\n",
       "      <td>1991.0</td>\n",
       "      <td>98125</td>\n",
       "      <td>47.7210</td>\n",
       "      <td>-122.319</td>\n",
       "      <td>1690</td>\n",
       "      <td>7639</td>\n",
       "      <td>0</td>\n",
       "      <td>-74.5980</td>\n",
       "    </tr>\n",
       "    <tr>\n",
       "      <td>2</td>\n",
       "      <td>5631500400</td>\n",
       "      <td>180000.0</td>\n",
       "      <td>2</td>\n",
       "      <td>1.00</td>\n",
       "      <td>770</td>\n",
       "      <td>10000</td>\n",
       "      <td>1.0</td>\n",
       "      <td>0.0</td>\n",
       "      <td>0.0</td>\n",
       "      <td>3</td>\n",
       "      <td>6</td>\n",
       "      <td>770</td>\n",
       "      <td>0.0</td>\n",
       "      <td>1933</td>\n",
       "      <td>0.0</td>\n",
       "      <td>98028</td>\n",
       "      <td>47.7379</td>\n",
       "      <td>-122.233</td>\n",
       "      <td>2720</td>\n",
       "      <td>8062</td>\n",
       "      <td>0</td>\n",
       "      <td>-74.4951</td>\n",
       "    </tr>\n",
       "    <tr>\n",
       "      <td>3</td>\n",
       "      <td>2487200875</td>\n",
       "      <td>604000.0</td>\n",
       "      <td>4</td>\n",
       "      <td>3.00</td>\n",
       "      <td>1960</td>\n",
       "      <td>5000</td>\n",
       "      <td>1.0</td>\n",
       "      <td>0.0</td>\n",
       "      <td>0.0</td>\n",
       "      <td>5</td>\n",
       "      <td>7</td>\n",
       "      <td>1050</td>\n",
       "      <td>910.0</td>\n",
       "      <td>1965</td>\n",
       "      <td>0.0</td>\n",
       "      <td>98136</td>\n",
       "      <td>47.5208</td>\n",
       "      <td>-122.393</td>\n",
       "      <td>1360</td>\n",
       "      <td>5000</td>\n",
       "      <td>0</td>\n",
       "      <td>-74.8722</td>\n",
       "    </tr>\n",
       "    <tr>\n",
       "      <td>4</td>\n",
       "      <td>1954400510</td>\n",
       "      <td>510000.0</td>\n",
       "      <td>3</td>\n",
       "      <td>2.00</td>\n",
       "      <td>1680</td>\n",
       "      <td>8080</td>\n",
       "      <td>1.0</td>\n",
       "      <td>0.0</td>\n",
       "      <td>0.0</td>\n",
       "      <td>3</td>\n",
       "      <td>8</td>\n",
       "      <td>1680</td>\n",
       "      <td>0.0</td>\n",
       "      <td>1987</td>\n",
       "      <td>0.0</td>\n",
       "      <td>98074</td>\n",
       "      <td>47.6168</td>\n",
       "      <td>-122.045</td>\n",
       "      <td>1800</td>\n",
       "      <td>7503</td>\n",
       "      <td>0</td>\n",
       "      <td>-74.4282</td>\n",
       "    </tr>\n",
       "    <tr>\n",
       "      <td>...</td>\n",
       "      <td>...</td>\n",
       "      <td>...</td>\n",
       "      <td>...</td>\n",
       "      <td>...</td>\n",
       "      <td>...</td>\n",
       "      <td>...</td>\n",
       "      <td>...</td>\n",
       "      <td>...</td>\n",
       "      <td>...</td>\n",
       "      <td>...</td>\n",
       "      <td>...</td>\n",
       "      <td>...</td>\n",
       "      <td>...</td>\n",
       "      <td>...</td>\n",
       "      <td>...</td>\n",
       "      <td>...</td>\n",
       "      <td>...</td>\n",
       "      <td>...</td>\n",
       "      <td>...</td>\n",
       "      <td>...</td>\n",
       "      <td>...</td>\n",
       "      <td>...</td>\n",
       "    </tr>\n",
       "    <tr>\n",
       "      <td>21592</td>\n",
       "      <td>263000018</td>\n",
       "      <td>360000.0</td>\n",
       "      <td>3</td>\n",
       "      <td>2.50</td>\n",
       "      <td>1530</td>\n",
       "      <td>1131</td>\n",
       "      <td>3.0</td>\n",
       "      <td>0.0</td>\n",
       "      <td>0.0</td>\n",
       "      <td>3</td>\n",
       "      <td>8</td>\n",
       "      <td>1530</td>\n",
       "      <td>0.0</td>\n",
       "      <td>2009</td>\n",
       "      <td>0.0</td>\n",
       "      <td>98103</td>\n",
       "      <td>47.6993</td>\n",
       "      <td>-122.346</td>\n",
       "      <td>1530</td>\n",
       "      <td>1509</td>\n",
       "      <td>0</td>\n",
       "      <td>-74.6467</td>\n",
       "    </tr>\n",
       "    <tr>\n",
       "      <td>21593</td>\n",
       "      <td>6600060120</td>\n",
       "      <td>400000.0</td>\n",
       "      <td>4</td>\n",
       "      <td>2.50</td>\n",
       "      <td>2310</td>\n",
       "      <td>5813</td>\n",
       "      <td>2.0</td>\n",
       "      <td>0.0</td>\n",
       "      <td>0.0</td>\n",
       "      <td>3</td>\n",
       "      <td>8</td>\n",
       "      <td>2310</td>\n",
       "      <td>0.0</td>\n",
       "      <td>2014</td>\n",
       "      <td>0.0</td>\n",
       "      <td>98146</td>\n",
       "      <td>47.5107</td>\n",
       "      <td>-122.362</td>\n",
       "      <td>1830</td>\n",
       "      <td>7200</td>\n",
       "      <td>0</td>\n",
       "      <td>-74.8513</td>\n",
       "    </tr>\n",
       "    <tr>\n",
       "      <td>21594</td>\n",
       "      <td>1523300141</td>\n",
       "      <td>402101.0</td>\n",
       "      <td>2</td>\n",
       "      <td>0.75</td>\n",
       "      <td>1020</td>\n",
       "      <td>1350</td>\n",
       "      <td>2.0</td>\n",
       "      <td>0.0</td>\n",
       "      <td>0.0</td>\n",
       "      <td>3</td>\n",
       "      <td>7</td>\n",
       "      <td>1020</td>\n",
       "      <td>0.0</td>\n",
       "      <td>2009</td>\n",
       "      <td>0.0</td>\n",
       "      <td>98144</td>\n",
       "      <td>47.5944</td>\n",
       "      <td>-122.299</td>\n",
       "      <td>1020</td>\n",
       "      <td>2007</td>\n",
       "      <td>0</td>\n",
       "      <td>-74.7046</td>\n",
       "    </tr>\n",
       "    <tr>\n",
       "      <td>21595</td>\n",
       "      <td>291310100</td>\n",
       "      <td>400000.0</td>\n",
       "      <td>3</td>\n",
       "      <td>2.50</td>\n",
       "      <td>1600</td>\n",
       "      <td>2388</td>\n",
       "      <td>2.0</td>\n",
       "      <td>0.0</td>\n",
       "      <td>0.0</td>\n",
       "      <td>3</td>\n",
       "      <td>8</td>\n",
       "      <td>1600</td>\n",
       "      <td>0.0</td>\n",
       "      <td>2004</td>\n",
       "      <td>0.0</td>\n",
       "      <td>98027</td>\n",
       "      <td>47.5345</td>\n",
       "      <td>-122.069</td>\n",
       "      <td>1410</td>\n",
       "      <td>1287</td>\n",
       "      <td>0</td>\n",
       "      <td>-74.5345</td>\n",
       "    </tr>\n",
       "    <tr>\n",
       "      <td>21596</td>\n",
       "      <td>1523300157</td>\n",
       "      <td>325000.0</td>\n",
       "      <td>2</td>\n",
       "      <td>0.75</td>\n",
       "      <td>1020</td>\n",
       "      <td>1076</td>\n",
       "      <td>2.0</td>\n",
       "      <td>0.0</td>\n",
       "      <td>0.0</td>\n",
       "      <td>3</td>\n",
       "      <td>7</td>\n",
       "      <td>1020</td>\n",
       "      <td>0.0</td>\n",
       "      <td>2008</td>\n",
       "      <td>0.0</td>\n",
       "      <td>98144</td>\n",
       "      <td>47.5941</td>\n",
       "      <td>-122.299</td>\n",
       "      <td>1020</td>\n",
       "      <td>1357</td>\n",
       "      <td>0</td>\n",
       "      <td>-74.7049</td>\n",
       "    </tr>\n",
       "  </tbody>\n",
       "</table>\n",
       "<p>21524 rows × 22 columns</p>\n",
       "</div>"
      ],
      "text/plain": [
       "               id     price  bedrooms  bathrooms  sqft_living  sqft_lot  \\\n",
       "0      7129300520  221900.0         3       1.00         1180      5650   \n",
       "1      6414100192  538000.0         3       2.25         2570      7242   \n",
       "2      5631500400  180000.0         2       1.00          770     10000   \n",
       "3      2487200875  604000.0         4       3.00         1960      5000   \n",
       "4      1954400510  510000.0         3       2.00         1680      8080   \n",
       "...           ...       ...       ...        ...          ...       ...   \n",
       "21592   263000018  360000.0         3       2.50         1530      1131   \n",
       "21593  6600060120  400000.0         4       2.50         2310      5813   \n",
       "21594  1523300141  402101.0         2       0.75         1020      1350   \n",
       "21595   291310100  400000.0         3       2.50         1600      2388   \n",
       "21596  1523300157  325000.0         2       0.75         1020      1076   \n",
       "\n",
       "       floors  waterfront  view  condition  grade  sqft_above  sqft_basement  \\\n",
       "0         1.0         0.0   0.0          3      7        1180            0.0   \n",
       "1         2.0         0.0   0.0          3      7        2170          400.0   \n",
       "2         1.0         0.0   0.0          3      6         770            0.0   \n",
       "3         1.0         0.0   0.0          5      7        1050          910.0   \n",
       "4         1.0         0.0   0.0          3      8        1680            0.0   \n",
       "...       ...         ...   ...        ...    ...         ...            ...   \n",
       "21592     3.0         0.0   0.0          3      8        1530            0.0   \n",
       "21593     2.0         0.0   0.0          3      8        2310            0.0   \n",
       "21594     2.0         0.0   0.0          3      7        1020            0.0   \n",
       "21595     2.0         0.0   0.0          3      8        1600            0.0   \n",
       "21596     2.0         0.0   0.0          3      7        1020            0.0   \n",
       "\n",
       "       yr_built  yr_renovated  zipcode      lat     long  sqft_living15  \\\n",
       "0          1955           0.0    98178  47.5112 -122.257           1340   \n",
       "1          1951        1991.0    98125  47.7210 -122.319           1690   \n",
       "2          1933           0.0    98028  47.7379 -122.233           2720   \n",
       "3          1965           0.0    98136  47.5208 -122.393           1360   \n",
       "4          1987           0.0    98074  47.6168 -122.045           1800   \n",
       "...         ...           ...      ...      ...      ...            ...   \n",
       "21592      2009           0.0    98103  47.6993 -122.346           1530   \n",
       "21593      2014           0.0    98146  47.5107 -122.362           1830   \n",
       "21594      2009           0.0    98144  47.5944 -122.299           1020   \n",
       "21595      2004           0.0    98027  47.5345 -122.069           1410   \n",
       "21596      2008           0.0    98144  47.5941 -122.299           1020   \n",
       "\n",
       "       sqft_lot15  enc_grade  lat_and_long  \n",
       "0            5650          0      -74.7458  \n",
       "1            7639          0      -74.5980  \n",
       "2            8062          0      -74.4951  \n",
       "3            5000          0      -74.8722  \n",
       "4            7503          0      -74.4282  \n",
       "...           ...        ...           ...  \n",
       "21592        1509          0      -74.6467  \n",
       "21593        7200          0      -74.8513  \n",
       "21594        2007          0      -74.7046  \n",
       "21595        1287          0      -74.5345  \n",
       "21596        1357          0      -74.7049  \n",
       "\n",
       "[21524 rows x 22 columns]"
      ]
     },
     "execution_count": 219,
     "metadata": {},
     "output_type": "execute_result"
    }
   ],
   "source": [
    "df_gams"
   ]
  },
  {
   "cell_type": "code",
   "execution_count": 220,
   "metadata": {},
   "outputs": [],
   "source": [
    "used_cols_g = [c for c in df_gams.columns.to_list() if c not in [target]]\n",
    "\n",
    "X_g = df_gams[used_cols_g]\n",
    "y_g = df_gams[target]"
   ]
  },
  {
   "cell_type": "code",
   "execution_count": 221,
   "metadata": {
    "scrolled": true
   },
   "outputs": [
    {
     "name": "stderr",
     "output_type": "stream",
     "text": [
      "100% (11 of 11) |########################| Elapsed Time: 0:01:02 Time:  0:01:02\n"
     ]
    },
    {
     "name": "stdout",
     "output_type": "stream",
     "text": [
      "LinearGAM                                                                                                 \n",
      "=============================================== ==========================================================\n",
      "Distribution:                        NormalDist Effective DoF:                                    316.9225\n",
      "Link Function:                     IdentityLink Log Likelihood:                               -530102.2098\n",
      "Number of Samples:                        21524 AIC:                                          1060840.2646\n",
      "                                                AICc:                                         1060849.8277\n",
      "                                                GCV:                                      20349251195.1597\n",
      "                                                Scale:                                     19810642052.702\n",
      "                                                Pseudo R-Squared:                                   0.8414\n",
      "==========================================================================================================\n",
      "Feature Function                  Lambda               Rank         EDoF         P > x        Sig. Code   \n",
      "================================= ==================== ============ ============ ============ ============\n",
      "s(0)                              [0.001]              25           25.0         1.11e-16     ***         \n",
      "s(1)                              [0.001]              25           10.2         4.88e-13     ***         \n",
      "s(2)                              [0.001]              25           21.8         1.11e-16     ***         \n",
      "s(3)                              [0.001]              25           23.8         1.11e-16     ***         \n",
      "s(4)                              [0.001]              25           17.7         1.11e-16     ***         \n",
      "s(5)                              [0.001]              25           5.2          1.11e-16     ***         \n",
      "s(6)                              [0.001]              25           1.2          1.11e-16     ***         \n",
      "s(7)                              [0.001]              25           4.2          1.11e-16     ***         \n",
      "s(8)                              [0.001]              25           4.2          1.11e-16     ***         \n",
      "s(9)                              [0.001]              25           10.2         1.11e-16     ***         \n",
      "s(10)                             [0.001]              25           22.2         1.11e-16     ***         \n",
      "s(11)                             [0.001]              25           20.0         1.11e-16     ***         \n",
      "s(12)                             [0.001]              25           23.8         1.11e-16     ***         \n",
      "s(13)                             [0.001]              25           3.9          1.11e-16     ***         \n",
      "s(14)                             [0.001]              25           23.8         1.11e-16     ***         \n",
      "s(15)                             [0.001]              25           23.7         1.11e-16     ***         \n",
      "s(16)                             [0.001]              25           22.2         1.11e-16     ***         \n",
      "s(17)                             [0.001]              25           22.5         1.11e-16     ***         \n",
      "s(18)                             [0.001]              25           14.4         1.11e-16     ***         \n",
      "s(19)                             [0.001]              25           0.0          9.72e-04     ***         \n",
      "s(20)                             [0.001]              25           17.0         1.11e-16     ***         \n",
      "intercept                                              1            0.0          2.32e-04     ***         \n",
      "==========================================================================================================\n",
      "Significance codes:  0 '***' 0.001 '**' 0.01 '*' 0.05 '.' 0.1 ' ' 1\n",
      "\n",
      "WARNING: Fitting splines and a linear function to a feature introduces a model identifiability problem\n",
      "         which can cause p-values to appear significant when they are not.\n",
      "\n",
      "WARNING: p-values calculated in this manner behave correctly for un-penalized models or models with\n",
      "         known smoothing parameters, but when smoothing parameters have been estimated, the p-values\n",
      "         are typically lower than they should be, meaning that the tests reject the null too readily.\n"
     ]
    }
   ],
   "source": [
    "gam = LinearGAM(n_splines=25)\n",
    "gam.gridsearch(X_g.values, y_g.values)\n",
    "gam.summary()"
   ]
  },
  {
   "cell_type": "code",
   "execution_count": 222,
   "metadata": {},
   "outputs": [],
   "source": [
    "df_gams['lat_and_long_sq'] = df_gams['lat_and_long']**2\n",
    "df_gams['lat_and_long_cubes'] = df_gams['lat_and_long']**3\n"
   ]
  },
  {
   "cell_type": "code",
   "execution_count": 224,
   "metadata": {},
   "outputs": [],
   "source": [
    "used_cols_g = [c for c in df_gams.columns.to_list() if c not in [target]]\n",
    "\n",
    "X_g = df_gams[used_cols_g]\n",
    "y_g = df_gams[target]"
   ]
  },
  {
   "cell_type": "code",
   "execution_count": 225,
   "metadata": {},
   "outputs": [
    {
     "name": "stderr",
     "output_type": "stream",
     "text": [
      "100% (11 of 11) |########################| Elapsed Time: 0:01:14 Time:  0:01:14\n"
     ]
    },
    {
     "name": "stdout",
     "output_type": "stream",
     "text": [
      "LinearGAM                                                                                                 \n",
      "=============================================== ==========================================================\n",
      "Distribution:                        NormalDist Effective DoF:                                     324.427\n",
      "Link Function:                     IdentityLink Log Likelihood:                                 -530032.87\n",
      "Number of Samples:                        21524 AIC:                                           1060716.594\n",
      "                                                AICc:                                         1060726.6167\n",
      "                                                GCV:                                      20296876274.6462\n",
      "                                                Scale:                                    19746949907.4012\n",
      "                                                Pseudo R-Squared:                                   0.8419\n",
      "==========================================================================================================\n",
      "Feature Function                  Lambda               Rank         EDoF         P > x        Sig. Code   \n",
      "================================= ==================== ============ ============ ============ ============\n",
      "s(0)                              [0.001]              25           25.0         1.11e-16     ***         \n",
      "s(1)                              [0.001]              25           10.2         4.90e-13     ***         \n",
      "s(2)                              [0.001]              25           21.8         1.11e-16     ***         \n",
      "s(3)                              [0.001]              25           23.8         1.11e-16     ***         \n",
      "s(4)                              [0.001]              25           17.7         1.11e-16     ***         \n",
      "s(5)                              [0.001]              25           5.2          1.11e-16     ***         \n",
      "s(6)                              [0.001]              25           1.2          1.11e-16     ***         \n",
      "s(7)                              [0.001]              25           4.2          1.11e-16     ***         \n",
      "s(8)                              [0.001]              25           4.2          1.11e-16     ***         \n",
      "s(9)                              [0.001]              25           10.2         1.11e-16     ***         \n",
      "s(10)                             [0.001]              25           22.2         1.11e-16     ***         \n",
      "s(11)                             [0.001]              25           20.0         1.11e-16     ***         \n",
      "s(12)                             [0.001]              25           23.8         1.11e-16     ***         \n",
      "s(13)                             [0.001]              25           3.9          1.11e-16     ***         \n",
      "s(14)                             [0.001]              25           23.8         1.11e-16     ***         \n",
      "s(15)                             [0.001]              25           23.7         1.11e-16     ***         \n",
      "s(16)                             [0.001]              25           22.3         1.11e-16     ***         \n",
      "s(17)                             [0.001]              25           22.5         1.11e-16     ***         \n",
      "s(18)                             [0.001]              25           14.4         1.11e-16     ***         \n",
      "s(19)                             [0.001]              25           0.0          8.44e-04     ***         \n",
      "s(20)                             [0.001]              25           17.6         1.11e-16     ***         \n",
      "s(21)                             [0.001]              25           6.7          7.08e-14     ***         \n",
      "s(22)                             [0.001]              25           0.1          1.11e-16     ***         \n",
      "intercept                                              1            0.0          2.17e-04     ***         \n",
      "==========================================================================================================\n",
      "Significance codes:  0 '***' 0.001 '**' 0.01 '*' 0.05 '.' 0.1 ' ' 1\n",
      "\n",
      "WARNING: Fitting splines and a linear function to a feature introduces a model identifiability problem\n",
      "         which can cause p-values to appear significant when they are not.\n",
      "\n",
      "WARNING: p-values calculated in this manner behave correctly for un-penalized models or models with\n",
      "         known smoothing parameters, but when smoothing parameters have been estimated, the p-values\n",
      "         are typically lower than they should be, meaning that the tests reject the null too readily.\n"
     ]
    }
   ],
   "source": [
    "gam = LinearGAM(n_splines=25)\n",
    "gam.gridsearch(X_g.values, y_g.values)\n",
    "gam.summary()"
   ]
  },
  {
   "cell_type": "code",
   "execution_count": 226,
   "metadata": {},
   "outputs": [],
   "source": [
    "df_gams['lat_sq'] = df_gams['lat']**2\n",
    "df_gams['lat_cubes'] = df_gams['lat']**3\n",
    "df_gams['long_sq'] = df_gams['long']**2\n",
    "df_gams['long_sq'] = df_gams['long']**3"
   ]
  },
  {
   "cell_type": "code",
   "execution_count": 227,
   "metadata": {},
   "outputs": [],
   "source": [
    "used_cols_g = [c for c in df_gams.columns.to_list() if c not in [target]]\n",
    "\n",
    "X_g = df_gams[used_cols_g]\n",
    "y_g = df_gams[target]"
   ]
  },
  {
   "cell_type": "code",
   "execution_count": 244,
   "metadata": {},
   "outputs": [
    {
     "name": "stderr",
     "output_type": "stream",
     "text": [
      "100% (11 of 11) |########################| Elapsed Time: 0:04:41 Time:  0:04:41\n"
     ]
    },
    {
     "name": "stdout",
     "output_type": "stream",
     "text": [
      "LinearGAM                                                                                                 \n",
      "=============================================== ==========================================================\n",
      "Distribution:                        NormalDist Effective DoF:                                    611.5339\n",
      "Link Function:                     IdentityLink Log Likelihood:                               -527526.9067\n",
      "Number of Samples:                        21524 AIC:                                          1056278.8812\n",
      "                                                AICc:                                         1056314.8259\n",
      "                                                GCV:                                      18521400200.0472\n",
      "                                                Scale:                                    17576657538.7283\n",
      "                                                Pseudo R-Squared:                                   0.8612\n",
      "==========================================================================================================\n",
      "Feature Function                  Lambda               Rank         EDoF         P > x        Sig. Code   \n",
      "================================= ==================== ============ ============ ============ ============\n",
      "s(0)                              [0.001]              50           49.9         1.11e-16     ***         \n",
      "s(1)                              [0.001]              50           11.2         1.12e-10     ***         \n",
      "s(2)                              [0.001]              50           26.0         1.11e-16     ***         \n",
      "s(3)                              [0.001]              50           48.3         1.11e-16     ***         \n",
      "s(4)                              [0.001]              50           29.6         1.11e-16     ***         \n",
      "s(5)                              [0.001]              50           6.1          1.11e-16     ***         \n",
      "s(6)                              [0.001]              50           2.3          1.11e-16     ***         \n",
      "s(7)                              [0.001]              50           4.9          1.11e-16     ***         \n",
      "s(8)                              [0.001]              50           5.0          1.11e-16     ***         \n",
      "s(9)                              [0.001]              50           11.1         1.11e-16     ***         \n",
      "s(10)                             [0.001]              50           41.8         1.11e-16     ***         \n",
      "s(11)                             [0.001]              50           39.1         1.11e-16     ***         \n",
      "s(12)                             [0.001]              50           48.2         1.11e-16     ***         \n",
      "s(13)                             [0.001]              50           5.3          1.11e-16     ***         \n",
      "s(14)                             [0.001]              50           42.9         1.11e-16     ***         \n",
      "s(15)                             [0.001]              50           47.7         1.24e-08     ***         \n",
      "s(16)                             [0.001]              50           42.5         1.11e-16     ***         \n",
      "s(17)                             [0.001]              50           42.7         1.11e-16     ***         \n",
      "s(18)                             [0.001]              50           24.6         1.11e-16     ***         \n",
      "s(19)                             [0.001]              50           0.2          1.43e-02     *           \n",
      "s(20)                             [0.001]              50           33.0         2.30e-06     ***         \n",
      "s(21)                             [0.001]              50           16.2         6.35e-05     ***         \n",
      "s(22)                             [0.001]              50           1.1          5.18e-07     ***         \n",
      "s(23)                             [0.001]              50           19.8         2.65e-07     ***         \n",
      "s(24)                             [0.001]              50           0.2          3.91e-07     ***         \n",
      "s(25)                             [0.001]              50           12.0         1.11e-16     ***         \n",
      "intercept                                              1            0.0          1.36e-01                 \n",
      "==========================================================================================================\n",
      "Significance codes:  0 '***' 0.001 '**' 0.01 '*' 0.05 '.' 0.1 ' ' 1\n",
      "\n",
      "WARNING: Fitting splines and a linear function to a feature introduces a model identifiability problem\n",
      "         which can cause p-values to appear significant when they are not.\n",
      "\n",
      "WARNING: p-values calculated in this manner behave correctly for un-penalized models or models with\n",
      "         known smoothing parameters, but when smoothing parameters have been estimated, the p-values\n",
      "         are typically lower than they should be, meaning that the tests reject the null too readily.\n"
     ]
    }
   ],
   "source": [
    "gam = LinearGAM(n_splines=50)\n",
    "gam.gridsearch(X_g.values, y_g.values)\n",
    "gam.summary()"
   ]
  },
  {
   "cell_type": "code",
   "execution_count": 230,
   "metadata": {
    "scrolled": true
   },
   "outputs": [
    {
     "data": {
      "text/plain": [
       "98103    601\n",
       "98038    586\n",
       "98115    580\n",
       "98052    573\n",
       "98117    553\n",
       "        ... \n",
       "98102    103\n",
       "98010    100\n",
       "98024     79\n",
       "98148     57\n",
       "98039     48\n",
       "Name: zipcode, Length: 70, dtype: int64"
      ]
     },
     "execution_count": 230,
     "metadata": {},
     "output_type": "execute_result"
    }
   ],
   "source": [
    "df_gams['zipcode'].value_counts()"
   ]
  },
  {
   "cell_type": "code",
   "execution_count": 245,
   "metadata": {},
   "outputs": [],
   "source": [
    "df_zip1 = df_gams.loc[df_gams['zipcode']==98103]"
   ]
  },
  {
   "cell_type": "code",
   "execution_count": 246,
   "metadata": {},
   "outputs": [
    {
     "data": {
      "text/html": [
       "<div>\n",
       "<style scoped>\n",
       "    .dataframe tbody tr th:only-of-type {\n",
       "        vertical-align: middle;\n",
       "    }\n",
       "\n",
       "    .dataframe tbody tr th {\n",
       "        vertical-align: top;\n",
       "    }\n",
       "\n",
       "    .dataframe thead th {\n",
       "        text-align: right;\n",
       "    }\n",
       "</style>\n",
       "<table border=\"1\" class=\"dataframe\">\n",
       "  <thead>\n",
       "    <tr style=\"text-align: right;\">\n",
       "      <th></th>\n",
       "      <th>id</th>\n",
       "      <th>price</th>\n",
       "      <th>bedrooms</th>\n",
       "      <th>bathrooms</th>\n",
       "      <th>sqft_living</th>\n",
       "      <th>sqft_lot</th>\n",
       "      <th>floors</th>\n",
       "      <th>waterfront</th>\n",
       "      <th>view</th>\n",
       "      <th>condition</th>\n",
       "      <th>grade</th>\n",
       "      <th>sqft_above</th>\n",
       "      <th>sqft_basement</th>\n",
       "      <th>yr_built</th>\n",
       "      <th>yr_renovated</th>\n",
       "      <th>zipcode</th>\n",
       "      <th>lat</th>\n",
       "      <th>long</th>\n",
       "      <th>sqft_living15</th>\n",
       "      <th>sqft_lot15</th>\n",
       "      <th>enc_grade</th>\n",
       "      <th>lat_and_long</th>\n",
       "      <th>lat_and_long_sq</th>\n",
       "      <th>lat_and_long_cubes</th>\n",
       "      <th>lat_sq</th>\n",
       "      <th>lat_cubes</th>\n",
       "      <th>long_sq</th>\n",
       "    </tr>\n",
       "  </thead>\n",
       "  <tbody>\n",
       "    <tr>\n",
       "      <td>17</td>\n",
       "      <td>6865200140</td>\n",
       "      <td>485000.0</td>\n",
       "      <td>4</td>\n",
       "      <td>1.00</td>\n",
       "      <td>1600</td>\n",
       "      <td>4300</td>\n",
       "      <td>1.5</td>\n",
       "      <td>0.0</td>\n",
       "      <td>0.0</td>\n",
       "      <td>4</td>\n",
       "      <td>7</td>\n",
       "      <td>1600</td>\n",
       "      <td>0.0</td>\n",
       "      <td>1916</td>\n",
       "      <td>0.0</td>\n",
       "      <td>98103</td>\n",
       "      <td>47.6648</td>\n",
       "      <td>-122.343</td>\n",
       "      <td>1610</td>\n",
       "      <td>4300</td>\n",
       "      <td>0</td>\n",
       "      <td>-74.6782</td>\n",
       "      <td>5576.833555</td>\n",
       "      <td>-416467.891605</td>\n",
       "      <td>2271.933159</td>\n",
       "      <td>108291.239639</td>\n",
       "      <td>-1.831207e+06</td>\n",
       "    </tr>\n",
       "    <tr>\n",
       "      <td>111</td>\n",
       "      <td>3362400511</td>\n",
       "      <td>570000.0</td>\n",
       "      <td>3</td>\n",
       "      <td>1.75</td>\n",
       "      <td>1260</td>\n",
       "      <td>3328</td>\n",
       "      <td>1.0</td>\n",
       "      <td>0.0</td>\n",
       "      <td>0.0</td>\n",
       "      <td>5</td>\n",
       "      <td>6</td>\n",
       "      <td>700</td>\n",
       "      <td>560.0</td>\n",
       "      <td>1905</td>\n",
       "      <td>0.0</td>\n",
       "      <td>98103</td>\n",
       "      <td>47.6823</td>\n",
       "      <td>-122.349</td>\n",
       "      <td>1380</td>\n",
       "      <td>3536</td>\n",
       "      <td>0</td>\n",
       "      <td>-74.6667</td>\n",
       "      <td>5575.116089</td>\n",
       "      <td>-416275.520474</td>\n",
       "      <td>2273.601733</td>\n",
       "      <td>108410.559927</td>\n",
       "      <td>-1.831476e+06</td>\n",
       "    </tr>\n",
       "    <tr>\n",
       "      <td>116</td>\n",
       "      <td>3362400431</td>\n",
       "      <td>518500.0</td>\n",
       "      <td>3</td>\n",
       "      <td>3.50</td>\n",
       "      <td>1590</td>\n",
       "      <td>1102</td>\n",
       "      <td>3.0</td>\n",
       "      <td>0.0</td>\n",
       "      <td>0.0</td>\n",
       "      <td>3</td>\n",
       "      <td>8</td>\n",
       "      <td>1590</td>\n",
       "      <td>0.0</td>\n",
       "      <td>2010</td>\n",
       "      <td>0.0</td>\n",
       "      <td>98103</td>\n",
       "      <td>47.6824</td>\n",
       "      <td>-122.347</td>\n",
       "      <td>1620</td>\n",
       "      <td>3166</td>\n",
       "      <td>0</td>\n",
       "      <td>-74.6646</td>\n",
       "      <td>5574.802493</td>\n",
       "      <td>-416240.398231</td>\n",
       "      <td>2273.611270</td>\n",
       "      <td>108411.242009</td>\n",
       "      <td>-1.831386e+06</td>\n",
       "    </tr>\n",
       "    <tr>\n",
       "      <td>128</td>\n",
       "      <td>2331300505</td>\n",
       "      <td>822500.0</td>\n",
       "      <td>5</td>\n",
       "      <td>3.50</td>\n",
       "      <td>2320</td>\n",
       "      <td>4960</td>\n",
       "      <td>2.0</td>\n",
       "      <td>0.0</td>\n",
       "      <td>0.0</td>\n",
       "      <td>5</td>\n",
       "      <td>7</td>\n",
       "      <td>1720</td>\n",
       "      <td>600.0</td>\n",
       "      <td>1926</td>\n",
       "      <td>0.0</td>\n",
       "      <td>98103</td>\n",
       "      <td>47.6763</td>\n",
       "      <td>-122.352</td>\n",
       "      <td>1700</td>\n",
       "      <td>4960</td>\n",
       "      <td>0</td>\n",
       "      <td>-74.6757</td>\n",
       "      <td>5576.460170</td>\n",
       "      <td>-416426.066753</td>\n",
       "      <td>2273.029582</td>\n",
       "      <td>108369.640246</td>\n",
       "      <td>-1.831611e+06</td>\n",
       "    </tr>\n",
       "    <tr>\n",
       "      <td>149</td>\n",
       "      <td>1994200024</td>\n",
       "      <td>511000.0</td>\n",
       "      <td>3</td>\n",
       "      <td>1.00</td>\n",
       "      <td>1430</td>\n",
       "      <td>3455</td>\n",
       "      <td>1.0</td>\n",
       "      <td>0.0</td>\n",
       "      <td>0.0</td>\n",
       "      <td>3</td>\n",
       "      <td>7</td>\n",
       "      <td>980</td>\n",
       "      <td>450.0</td>\n",
       "      <td>1947</td>\n",
       "      <td>0.0</td>\n",
       "      <td>98103</td>\n",
       "      <td>47.6873</td>\n",
       "      <td>-122.336</td>\n",
       "      <td>1450</td>\n",
       "      <td>4599</td>\n",
       "      <td>0</td>\n",
       "      <td>-74.6487</td>\n",
       "      <td>5572.428412</td>\n",
       "      <td>-415974.536776</td>\n",
       "      <td>2274.078581</td>\n",
       "      <td>108444.667530</td>\n",
       "      <td>-1.830892e+06</td>\n",
       "    </tr>\n",
       "    <tr>\n",
       "      <td>...</td>\n",
       "      <td>...</td>\n",
       "      <td>...</td>\n",
       "      <td>...</td>\n",
       "      <td>...</td>\n",
       "      <td>...</td>\n",
       "      <td>...</td>\n",
       "      <td>...</td>\n",
       "      <td>...</td>\n",
       "      <td>...</td>\n",
       "      <td>...</td>\n",
       "      <td>...</td>\n",
       "      <td>...</td>\n",
       "      <td>...</td>\n",
       "      <td>...</td>\n",
       "      <td>...</td>\n",
       "      <td>...</td>\n",
       "      <td>...</td>\n",
       "      <td>...</td>\n",
       "      <td>...</td>\n",
       "      <td>...</td>\n",
       "      <td>...</td>\n",
       "      <td>...</td>\n",
       "      <td>...</td>\n",
       "      <td>...</td>\n",
       "      <td>...</td>\n",
       "      <td>...</td>\n",
       "      <td>...</td>\n",
       "    </tr>\n",
       "    <tr>\n",
       "      <td>21551</td>\n",
       "      <td>9521100031</td>\n",
       "      <td>690000.0</td>\n",
       "      <td>3</td>\n",
       "      <td>3.25</td>\n",
       "      <td>1540</td>\n",
       "      <td>1428</td>\n",
       "      <td>3.0</td>\n",
       "      <td>0.0</td>\n",
       "      <td>0.0</td>\n",
       "      <td>3</td>\n",
       "      <td>9</td>\n",
       "      <td>1540</td>\n",
       "      <td>0.0</td>\n",
       "      <td>2013</td>\n",
       "      <td>0.0</td>\n",
       "      <td>98103</td>\n",
       "      <td>47.6648</td>\n",
       "      <td>-122.353</td>\n",
       "      <td>1660</td>\n",
       "      <td>3300</td>\n",
       "      <td>0</td>\n",
       "      <td>-74.6882</td>\n",
       "      <td>5578.327219</td>\n",
       "      <td>-416635.219016</td>\n",
       "      <td>2271.933159</td>\n",
       "      <td>108291.239639</td>\n",
       "      <td>-1.831656e+06</td>\n",
       "    </tr>\n",
       "    <tr>\n",
       "      <td>21558</td>\n",
       "      <td>1931300090</td>\n",
       "      <td>610950.0</td>\n",
       "      <td>3</td>\n",
       "      <td>3.00</td>\n",
       "      <td>1680</td>\n",
       "      <td>1570</td>\n",
       "      <td>3.0</td>\n",
       "      <td>0.0</td>\n",
       "      <td>0.0</td>\n",
       "      <td>3</td>\n",
       "      <td>8</td>\n",
       "      <td>1680</td>\n",
       "      <td>0.0</td>\n",
       "      <td>2014</td>\n",
       "      <td>0.0</td>\n",
       "      <td>98103</td>\n",
       "      <td>47.6572</td>\n",
       "      <td>-122.346</td>\n",
       "      <td>1640</td>\n",
       "      <td>4800</td>\n",
       "      <td>0</td>\n",
       "      <td>-74.6888</td>\n",
       "      <td>5578.416845</td>\n",
       "      <td>-416645.260086</td>\n",
       "      <td>2271.208712</td>\n",
       "      <td>108239.447822</td>\n",
       "      <td>-1.831341e+06</td>\n",
       "    </tr>\n",
       "    <tr>\n",
       "      <td>21576</td>\n",
       "      <td>1931300412</td>\n",
       "      <td>475000.0</td>\n",
       "      <td>3</td>\n",
       "      <td>2.25</td>\n",
       "      <td>1190</td>\n",
       "      <td>1200</td>\n",
       "      <td>3.0</td>\n",
       "      <td>0.0</td>\n",
       "      <td>0.0</td>\n",
       "      <td>3</td>\n",
       "      <td>8</td>\n",
       "      <td>1190</td>\n",
       "      <td>0.0</td>\n",
       "      <td>2008</td>\n",
       "      <td>0.0</td>\n",
       "      <td>98103</td>\n",
       "      <td>47.6542</td>\n",
       "      <td>-122.346</td>\n",
       "      <td>1180</td>\n",
       "      <td>1224</td>\n",
       "      <td>0</td>\n",
       "      <td>-74.6918</td>\n",
       "      <td>5578.864987</td>\n",
       "      <td>-416695.467854</td>\n",
       "      <td>2270.922778</td>\n",
       "      <td>108219.008230</td>\n",
       "      <td>-1.831341e+06</td>\n",
       "    </tr>\n",
       "    <tr>\n",
       "      <td>21579</td>\n",
       "      <td>1972201967</td>\n",
       "      <td>520000.0</td>\n",
       "      <td>2</td>\n",
       "      <td>2.25</td>\n",
       "      <td>1530</td>\n",
       "      <td>981</td>\n",
       "      <td>3.0</td>\n",
       "      <td>0.0</td>\n",
       "      <td>0.0</td>\n",
       "      <td>3</td>\n",
       "      <td>8</td>\n",
       "      <td>1480</td>\n",
       "      <td>50.0</td>\n",
       "      <td>2006</td>\n",
       "      <td>0.0</td>\n",
       "      <td>98103</td>\n",
       "      <td>47.6533</td>\n",
       "      <td>-122.346</td>\n",
       "      <td>1530</td>\n",
       "      <td>1282</td>\n",
       "      <td>0</td>\n",
       "      <td>-74.6927</td>\n",
       "      <td>5578.999433</td>\n",
       "      <td>-416710.530971</td>\n",
       "      <td>2270.837001</td>\n",
       "      <td>108212.876855</td>\n",
       "      <td>-1.831341e+06</td>\n",
       "    </tr>\n",
       "    <tr>\n",
       "      <td>21592</td>\n",
       "      <td>263000018</td>\n",
       "      <td>360000.0</td>\n",
       "      <td>3</td>\n",
       "      <td>2.50</td>\n",
       "      <td>1530</td>\n",
       "      <td>1131</td>\n",
       "      <td>3.0</td>\n",
       "      <td>0.0</td>\n",
       "      <td>0.0</td>\n",
       "      <td>3</td>\n",
       "      <td>8</td>\n",
       "      <td>1530</td>\n",
       "      <td>0.0</td>\n",
       "      <td>2009</td>\n",
       "      <td>0.0</td>\n",
       "      <td>98103</td>\n",
       "      <td>47.6993</td>\n",
       "      <td>-122.346</td>\n",
       "      <td>1530</td>\n",
       "      <td>1509</td>\n",
       "      <td>0</td>\n",
       "      <td>-74.6467</td>\n",
       "      <td>5572.129821</td>\n",
       "      <td>-415941.103101</td>\n",
       "      <td>2275.223220</td>\n",
       "      <td>108526.554961</td>\n",
       "      <td>-1.831341e+06</td>\n",
       "    </tr>\n",
       "  </tbody>\n",
       "</table>\n",
       "<p>601 rows × 27 columns</p>\n",
       "</div>"
      ],
      "text/plain": [
       "               id     price  bedrooms  bathrooms  sqft_living  sqft_lot  \\\n",
       "17     6865200140  485000.0         4       1.00         1600      4300   \n",
       "111    3362400511  570000.0         3       1.75         1260      3328   \n",
       "116    3362400431  518500.0         3       3.50         1590      1102   \n",
       "128    2331300505  822500.0         5       3.50         2320      4960   \n",
       "149    1994200024  511000.0         3       1.00         1430      3455   \n",
       "...           ...       ...       ...        ...          ...       ...   \n",
       "21551  9521100031  690000.0         3       3.25         1540      1428   \n",
       "21558  1931300090  610950.0         3       3.00         1680      1570   \n",
       "21576  1931300412  475000.0         3       2.25         1190      1200   \n",
       "21579  1972201967  520000.0         2       2.25         1530       981   \n",
       "21592   263000018  360000.0         3       2.50         1530      1131   \n",
       "\n",
       "       floors  waterfront  view  condition  grade  sqft_above  sqft_basement  \\\n",
       "17        1.5         0.0   0.0          4      7        1600            0.0   \n",
       "111       1.0         0.0   0.0          5      6         700          560.0   \n",
       "116       3.0         0.0   0.0          3      8        1590            0.0   \n",
       "128       2.0         0.0   0.0          5      7        1720          600.0   \n",
       "149       1.0         0.0   0.0          3      7         980          450.0   \n",
       "...       ...         ...   ...        ...    ...         ...            ...   \n",
       "21551     3.0         0.0   0.0          3      9        1540            0.0   \n",
       "21558     3.0         0.0   0.0          3      8        1680            0.0   \n",
       "21576     3.0         0.0   0.0          3      8        1190            0.0   \n",
       "21579     3.0         0.0   0.0          3      8        1480           50.0   \n",
       "21592     3.0         0.0   0.0          3      8        1530            0.0   \n",
       "\n",
       "       yr_built  yr_renovated  zipcode      lat     long  sqft_living15  \\\n",
       "17         1916           0.0    98103  47.6648 -122.343           1610   \n",
       "111        1905           0.0    98103  47.6823 -122.349           1380   \n",
       "116        2010           0.0    98103  47.6824 -122.347           1620   \n",
       "128        1926           0.0    98103  47.6763 -122.352           1700   \n",
       "149        1947           0.0    98103  47.6873 -122.336           1450   \n",
       "...         ...           ...      ...      ...      ...            ...   \n",
       "21551      2013           0.0    98103  47.6648 -122.353           1660   \n",
       "21558      2014           0.0    98103  47.6572 -122.346           1640   \n",
       "21576      2008           0.0    98103  47.6542 -122.346           1180   \n",
       "21579      2006           0.0    98103  47.6533 -122.346           1530   \n",
       "21592      2009           0.0    98103  47.6993 -122.346           1530   \n",
       "\n",
       "       sqft_lot15  enc_grade  lat_and_long  lat_and_long_sq  \\\n",
       "17           4300          0      -74.6782      5576.833555   \n",
       "111          3536          0      -74.6667      5575.116089   \n",
       "116          3166          0      -74.6646      5574.802493   \n",
       "128          4960          0      -74.6757      5576.460170   \n",
       "149          4599          0      -74.6487      5572.428412   \n",
       "...           ...        ...           ...              ...   \n",
       "21551        3300          0      -74.6882      5578.327219   \n",
       "21558        4800          0      -74.6888      5578.416845   \n",
       "21576        1224          0      -74.6918      5578.864987   \n",
       "21579        1282          0      -74.6927      5578.999433   \n",
       "21592        1509          0      -74.6467      5572.129821   \n",
       "\n",
       "       lat_and_long_cubes       lat_sq      lat_cubes       long_sq  \n",
       "17         -416467.891605  2271.933159  108291.239639 -1.831207e+06  \n",
       "111        -416275.520474  2273.601733  108410.559927 -1.831476e+06  \n",
       "116        -416240.398231  2273.611270  108411.242009 -1.831386e+06  \n",
       "128        -416426.066753  2273.029582  108369.640246 -1.831611e+06  \n",
       "149        -415974.536776  2274.078581  108444.667530 -1.830892e+06  \n",
       "...                   ...          ...            ...           ...  \n",
       "21551      -416635.219016  2271.933159  108291.239639 -1.831656e+06  \n",
       "21558      -416645.260086  2271.208712  108239.447822 -1.831341e+06  \n",
       "21576      -416695.467854  2270.922778  108219.008230 -1.831341e+06  \n",
       "21579      -416710.530971  2270.837001  108212.876855 -1.831341e+06  \n",
       "21592      -415941.103101  2275.223220  108526.554961 -1.831341e+06  \n",
       "\n",
       "[601 rows x 27 columns]"
      ]
     },
     "execution_count": 246,
     "metadata": {},
     "output_type": "execute_result"
    }
   ],
   "source": [
    "df_zip1"
   ]
  },
  {
   "cell_type": "code",
   "execution_count": 247,
   "metadata": {},
   "outputs": [],
   "source": [
    "used_cols_zip = [c for c in df_zip1.columns.to_list() if c not in [target]]\n",
    "\n",
    "X_zip = df_zip1[used_cols_zip]\n",
    "y_zip = df_zip1[target]"
   ]
  },
  {
   "cell_type": "code",
   "execution_count": 248,
   "metadata": {},
   "outputs": [
    {
     "name": "stderr",
     "output_type": "stream",
     "text": [
      "100% (11 of 11) |########################| Elapsed Time: 0:00:54 Time:  0:00:54\n"
     ]
    },
    {
     "name": "stdout",
     "output_type": "stream",
     "text": [
      "LinearGAM                                                                                                 \n",
      "=============================================== ==========================================================\n",
      "Distribution:                        NormalDist Effective DoF:                                    150.5901\n",
      "Link Function:                     IdentityLink Log Likelihood:                                 -14353.925\n",
      "Number of Samples:                          601 AIC:                                            29011.0303\n",
      "                                                AICc:                                           29114.1999\n",
      "                                                GCV:                                      16722677687.1775\n",
      "                                                Scale:                                     9404587822.9945\n",
      "                                                Pseudo R-Squared:                                   0.8391\n",
      "==========================================================================================================\n",
      "Feature Function                  Lambda               Rank         EDoF         P > x        Sig. Code   \n",
      "================================= ==================== ============ ============ ============ ============\n",
      "s(0)                              [1.]                 50                        1.11e-16     ***         \n",
      "s(1)                              [1.]                 50                        1.11e-16     ***         \n",
      "s(2)                              [1.]                 50                        1.11e-16     ***         \n",
      "s(3)                              [1.]                 50                        1.11e-16     ***         \n",
      "s(4)                              [1.]                 50                        1.11e-16     ***         \n",
      "s(5)                              [1.]                 50                        1.11e-16     ***         \n",
      "s(6)                              [1.]                 50                        1.11e-16     ***         \n",
      "s(7)                              [1.]                 50                        1.11e-16     ***         \n",
      "s(8)                              [1.]                 50                        1.11e-16     ***         \n",
      "s(9)                              [1.]                 50                        1.11e-16     ***         \n",
      "s(10)                             [1.]                 50                        1.11e-16     ***         \n",
      "s(11)                             [1.]                 50                        1.11e-16     ***         \n",
      "s(12)                             [1.]                 50                        1.11e-16     ***         \n",
      "s(13)                             [1.]                 50                        1.11e-16     ***         \n",
      "s(14)                             [1.]                 50                        1.11e-16     ***         \n",
      "s(15)                             [1.]                 50                        1.11e-16     ***         \n",
      "s(16)                             [1.]                 50                        1.11e-16     ***         \n",
      "s(17)                             [1.]                 50                        1.11e-16     ***         \n",
      "s(18)                             [1.]                 50                        1.11e-16     ***         \n",
      "s(19)                             [1.]                 50                        1.11e-16     ***         \n",
      "s(20)                             [1.]                 50                        1.11e-16     ***         \n",
      "s(21)                             [1.]                 50                        1.11e-16     ***         \n",
      "s(22)                             [1.]                 50                        1.11e-16     ***         \n",
      "s(23)                             [1.]                 50                        1.11e-16     ***         \n",
      "s(24)                             [1.]                 50                        1.11e-16     ***         \n",
      "s(25)                             [1.]                 50                        1.11e-16     ***         \n",
      "intercept                                              1                         1.11e-16     ***         \n",
      "==========================================================================================================\n",
      "Significance codes:  0 '***' 0.001 '**' 0.01 '*' 0.05 '.' 0.1 ' ' 1\n",
      "\n",
      "WARNING: Fitting splines and a linear function to a feature introduces a model identifiability problem\n",
      "         which can cause p-values to appear significant when they are not.\n",
      "\n",
      "WARNING: p-values calculated in this manner behave correctly for un-penalized models or models with\n",
      "         known smoothing parameters, but when smoothing parameters have been estimated, the p-values\n",
      "         are typically lower than they should be, meaning that the tests reject the null too readily.\n"
     ]
    }
   ],
   "source": [
    "gam = LinearGAM(n_splines=50)\n",
    "gam.gridsearch(X_zip.values, y_zip.values)\n",
    "gam.summary()"
   ]
  },
  {
   "cell_type": "code",
   "execution_count": 249,
   "metadata": {},
   "outputs": [],
   "source": [
    "df_zip2 = df_gams.loc[df_gams['zipcode']==98039]"
   ]
  },
  {
   "cell_type": "code",
   "execution_count": 250,
   "metadata": {},
   "outputs": [],
   "source": [
    "used_cols_zip2 = [c for c in df_zip2.columns.to_list() if c not in [target]]\n",
    "\n",
    "X_zip2 = df_zip2[used_cols_zip2]\n",
    "y_zip2 = df_zip2[target]"
   ]
  },
  {
   "cell_type": "code",
   "execution_count": 251,
   "metadata": {
    "scrolled": true
   },
   "outputs": [
    {
     "name": "stderr",
     "output_type": "stream",
     "text": [
      "100% (11 of 11) |########################| Elapsed Time: 0:00:35 Time:  0:00:35\n"
     ]
    },
    {
     "name": "stdout",
     "output_type": "stream",
     "text": [
      "LinearGAM                                                                                                 \n",
      "=============================================== ==========================================================\n",
      "Distribution:                        NormalDist Effective DoF:                                     46.9802\n",
      "Link Function:                     IdentityLink Log Likelihood:                                 -1073.8612\n",
      "Number of Samples:                           48 AIC:                                             2243.6829\n",
      "                                                AICc:                                           -2551.4164\n",
      "                                                GCV:                                        321560897.6775\n",
      "                                                Scale:                                     2074883107.1117\n",
      "                                                Pseudo R-Squared:                                   0.9999\n",
      "==========================================================================================================\n",
      "Feature Function                  Lambda               Rank         EDoF         P > x        Sig. Code   \n",
      "================================= ==================== ============ ============ ============ ============\n",
      "s(0)                              [0.001]              50                        2.21e-06     ***         \n",
      "s(1)                              [0.001]              50                        2.10e-06     ***         \n",
      "s(2)                              [0.001]              50                        1.13e-05     ***         \n",
      "s(3)                              [0.001]              50                        1.62e-06     ***         \n",
      "s(4)                              [0.001]              50                        8.34e-07     ***         \n",
      "s(5)                              [0.001]              50                        1.60e-05     ***         \n",
      "s(6)                              [0.001]              50                        4.38e-05     ***         \n",
      "s(7)                              [0.001]              50                        1.54e-06     ***         \n",
      "s(8)                              [0.001]              50                        2.99e-06     ***         \n",
      "s(9)                              [0.001]              50                        2.18e-06     ***         \n",
      "s(10)                             [0.001]              50                        3.90e-05     ***         \n",
      "s(11)                             [0.001]              50                        3.98e-07     ***         \n",
      "s(12)                             [0.001]              50                        6.59e-05     ***         \n",
      "s(13)                             [0.001]              50                        1.48e-05     ***         \n",
      "s(14)                             [0.001]              50                        4.63e-08     ***         \n",
      "s(15)                             [0.001]              50                        8.23e-06     ***         \n",
      "s(16)                             [0.001]              50                        9.61e-06     ***         \n",
      "s(17)                             [0.001]              50                        1.46e-06     ***         \n",
      "s(18)                             [0.001]              50                        1.25e-05     ***         \n",
      "s(19)                             [0.001]              50                        4.63e-08     ***         \n",
      "s(20)                             [0.001]              50                        1.36e-05     ***         \n",
      "s(21)                             [0.001]              50                        1.37e-05     ***         \n",
      "s(22)                             [0.001]              50                        1.39e-05     ***         \n",
      "s(23)                             [0.001]              50                        8.18e-06     ***         \n",
      "s(24)                             [0.001]              50                        8.10e-06     ***         \n",
      "s(25)                             [0.001]              50                        9.61e-06     ***         \n",
      "intercept                                              1                         2.76e-03     **          \n",
      "==========================================================================================================\n",
      "Significance codes:  0 '***' 0.001 '**' 0.01 '*' 0.05 '.' 0.1 ' ' 1\n",
      "\n",
      "WARNING: Fitting splines and a linear function to a feature introduces a model identifiability problem\n",
      "         which can cause p-values to appear significant when they are not.\n",
      "\n",
      "WARNING: p-values calculated in this manner behave correctly for un-penalized models or models with\n",
      "         known smoothing parameters, but when smoothing parameters have been estimated, the p-values\n",
      "         are typically lower than they should be, meaning that the tests reject the null too readily.\n"
     ]
    }
   ],
   "source": [
    "gam = LinearGAM(n_splines=50)\n",
    "gam.gridsearch(X_zip2.values, y_zip2.values)\n",
    "gam.summary()"
   ]
  },
  {
   "cell_type": "code",
   "execution_count": 252,
   "metadata": {},
   "outputs": [],
   "source": [
    "df_zip3 = df_gams.loc[df_gams['zipcode']==98102]"
   ]
  },
  {
   "cell_type": "code",
   "execution_count": 253,
   "metadata": {},
   "outputs": [],
   "source": [
    "used_cols_zip3 = [c for c in df_zip3.columns.to_list() if c not in [target]]\n",
    "\n",
    "X_zip3 = df_zip3[used_cols_zip3]\n",
    "y_zip3 = df_zip3[target]"
   ]
  },
  {
   "cell_type": "code",
   "execution_count": 255,
   "metadata": {},
   "outputs": [
    {
     "name": "stderr",
     "output_type": "stream",
     "text": [
      "100% (11 of 11) |########################| Elapsed Time: 0:00:37 Time:  0:00:37\n"
     ]
    },
    {
     "name": "stdout",
     "output_type": "stream",
     "text": [
      "LinearGAM                                                                                                 \n",
      "=============================================== ==========================================================\n",
      "Distribution:                        NormalDist Effective DoF:                                     97.4913\n",
      "Link Function:                     IdentityLink Log Likelihood:                                 -2160.7503\n",
      "Number of Samples:                          103 AIC:                                             4518.4831\n",
      "                                                AICc:                                            10103.997\n",
      "                                                GCV:                                        260449552.7503\n",
      "                                                Scale:                                      514763681.0202\n",
      "                                                Pseudo R-Squared:                                   0.9998\n",
      "==========================================================================================================\n",
      "Feature Function                  Lambda               Rank         EDoF         P > x        Sig. Code   \n",
      "================================= ==================== ============ ============ ============ ============\n",
      "s(0)                              [0.001]              50                        1.11e-16     ***         \n",
      "s(1)                              [0.001]              50                        1.11e-16     ***         \n",
      "s(2)                              [0.001]              50                        1.11e-16     ***         \n",
      "s(3)                              [0.001]              50                        1.11e-16     ***         \n",
      "s(4)                              [0.001]              50                        1.11e-16     ***         \n",
      "s(5)                              [0.001]              50                        1.11e-16     ***         \n",
      "s(6)                              [0.001]              50                        1.11e-16     ***         \n",
      "s(7)                              [0.001]              50                        1.11e-16     ***         \n",
      "s(8)                              [0.001]              50                        1.11e-16     ***         \n",
      "s(9)                              [0.001]              50                        1.11e-16     ***         \n",
      "s(10)                             [0.001]              50                        1.11e-16     ***         \n",
      "s(11)                             [0.001]              50                        1.11e-16     ***         \n",
      "s(12)                             [0.001]              50                        1.11e-16     ***         \n",
      "s(13)                             [0.001]              50                        1.11e-16     ***         \n",
      "s(14)                             [0.001]              50                        1.11e-16     ***         \n",
      "s(15)                             [0.001]              50                        1.11e-16     ***         \n",
      "s(16)                             [0.001]              50                        1.11e-16     ***         \n",
      "s(17)                             [0.001]              50                        1.11e-16     ***         \n",
      "s(18)                             [0.001]              50                        1.11e-16     ***         \n",
      "s(19)                             [0.001]              50                        1.11e-16     ***         \n",
      "s(20)                             [0.001]              50                        1.11e-16     ***         \n",
      "s(21)                             [0.001]              50                        1.11e-16     ***         \n",
      "s(22)                             [0.001]              50                        1.11e-16     ***         \n",
      "s(23)                             [0.001]              50                        1.11e-16     ***         \n",
      "s(24)                             [0.001]              50                        1.11e-16     ***         \n",
      "s(25)                             [0.001]              50                        1.11e-16     ***         \n",
      "intercept                                              1                         9.33e-10     ***         \n",
      "==========================================================================================================\n",
      "Significance codes:  0 '***' 0.001 '**' 0.01 '*' 0.05 '.' 0.1 ' ' 1\n",
      "\n",
      "WARNING: Fitting splines and a linear function to a feature introduces a model identifiability problem\n",
      "         which can cause p-values to appear significant when they are not.\n",
      "\n",
      "WARNING: p-values calculated in this manner behave correctly for un-penalized models or models with\n",
      "         known smoothing parameters, but when smoothing parameters have been estimated, the p-values\n",
      "         are typically lower than they should be, meaning that the tests reject the null too readily.\n"
     ]
    }
   ],
   "source": [
    "gam = LinearGAM(n_splines=50)\n",
    "gam.gridsearch(X_zip3.values, y_zip3.values)\n",
    "gam.summary()"
   ]
  },
  {
   "cell_type": "code",
   "execution_count": 57,
   "metadata": {
    "scrolled": true
   },
   "outputs": [],
   "source": [
    "# cv1['train_r2'].mean()"
   ]
  },
  {
   "cell_type": "code",
   "execution_count": 58,
   "metadata": {},
   "outputs": [],
   "source": [
    "# ridge = Ridge(alpha=0.5)\n",
    "# pipe4 = make_pipeline(scaler, ridge)\n",
    "\n",
    "# cv3 = cross_validate(pipe4, X, y, cv=3, n_jobs=-1, scoring=metrics,return_train_score=True)"
   ]
  },
  {
   "cell_type": "code",
   "execution_count": 59,
   "metadata": {},
   "outputs": [],
   "source": [
    "# cv3['test_r2'].mean()"
   ]
  },
  {
   "cell_type": "code",
   "execution_count": 60,
   "metadata": {},
   "outputs": [],
   "source": [
    "# cv3['train_r2'].mean()"
   ]
  }
 ],
 "metadata": {
  "kernelspec": {
   "display_name": "learn-env",
   "language": "python",
   "name": "learn-env"
  },
  "language_info": {
   "codemirror_mode": {
    "name": "ipython",
    "version": 3
   },
   "file_extension": ".py",
   "mimetype": "text/x-python",
   "name": "python",
   "nbconvert_exporter": "python",
   "pygments_lexer": "ipython3",
   "version": "3.7.4"
  }
 },
 "nbformat": 4,
 "nbformat_minor": 2
}
