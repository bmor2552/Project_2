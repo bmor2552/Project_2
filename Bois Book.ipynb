{
 "cells": [
  {
   "cell_type": "markdown",
   "metadata": {},
   "source": [
    "## Predicting Prices For Homes: In This Notebook We Are Cleaning Up Data "
   ]
  },
  {
   "cell_type": "code",
   "execution_count": 2,
   "metadata": {},
   "outputs": [],
   "source": [
    "import numpy as np\n",
    "import pandas as pd\n",
    "import matplotlib.pyplot as plt\n",
    "%matplotlib inline\n",
    "import seaborn as sns\n",
    "import datetime"
   ]
  },
  {
   "cell_type": "code",
   "execution_count": 4,
   "metadata": {},
   "outputs": [],
   "source": [
    "df = pd.read_csv('kc_house_data.csv')"
   ]
  },
  {
   "cell_type": "markdown",
   "metadata": {},
   "source": [
    "## What Do We Have"
   ]
  },
  {
   "cell_type": "code",
   "execution_count": 5,
   "metadata": {},
   "outputs": [
    {
     "data": {
      "text/html": [
       "<div>\n",
       "<style scoped>\n",
       "    .dataframe tbody tr th:only-of-type {\n",
       "        vertical-align: middle;\n",
       "    }\n",
       "\n",
       "    .dataframe tbody tr th {\n",
       "        vertical-align: top;\n",
       "    }\n",
       "\n",
       "    .dataframe thead th {\n",
       "        text-align: right;\n",
       "    }\n",
       "</style>\n",
       "<table border=\"1\" class=\"dataframe\">\n",
       "  <thead>\n",
       "    <tr style=\"text-align: right;\">\n",
       "      <th></th>\n",
       "      <th>id</th>\n",
       "      <th>date</th>\n",
       "      <th>price</th>\n",
       "      <th>bedrooms</th>\n",
       "      <th>bathrooms</th>\n",
       "      <th>sqft_living</th>\n",
       "      <th>sqft_lot</th>\n",
       "      <th>floors</th>\n",
       "      <th>waterfront</th>\n",
       "      <th>view</th>\n",
       "      <th>...</th>\n",
       "      <th>grade</th>\n",
       "      <th>sqft_above</th>\n",
       "      <th>sqft_basement</th>\n",
       "      <th>yr_built</th>\n",
       "      <th>yr_renovated</th>\n",
       "      <th>zipcode</th>\n",
       "      <th>lat</th>\n",
       "      <th>long</th>\n",
       "      <th>sqft_living15</th>\n",
       "      <th>sqft_lot15</th>\n",
       "    </tr>\n",
       "  </thead>\n",
       "  <tbody>\n",
       "    <tr>\n",
       "      <td>0</td>\n",
       "      <td>7129300520</td>\n",
       "      <td>10/13/2014</td>\n",
       "      <td>221900.0</td>\n",
       "      <td>3</td>\n",
       "      <td>1.00</td>\n",
       "      <td>1180</td>\n",
       "      <td>5650</td>\n",
       "      <td>1.0</td>\n",
       "      <td>NaN</td>\n",
       "      <td>0.0</td>\n",
       "      <td>...</td>\n",
       "      <td>7</td>\n",
       "      <td>1180</td>\n",
       "      <td>0.0</td>\n",
       "      <td>1955</td>\n",
       "      <td>0.0</td>\n",
       "      <td>98178</td>\n",
       "      <td>47.5112</td>\n",
       "      <td>-122.257</td>\n",
       "      <td>1340</td>\n",
       "      <td>5650</td>\n",
       "    </tr>\n",
       "    <tr>\n",
       "      <td>1</td>\n",
       "      <td>6414100192</td>\n",
       "      <td>12/9/2014</td>\n",
       "      <td>538000.0</td>\n",
       "      <td>3</td>\n",
       "      <td>2.25</td>\n",
       "      <td>2570</td>\n",
       "      <td>7242</td>\n",
       "      <td>2.0</td>\n",
       "      <td>0.0</td>\n",
       "      <td>0.0</td>\n",
       "      <td>...</td>\n",
       "      <td>7</td>\n",
       "      <td>2170</td>\n",
       "      <td>400.0</td>\n",
       "      <td>1951</td>\n",
       "      <td>1991.0</td>\n",
       "      <td>98125</td>\n",
       "      <td>47.7210</td>\n",
       "      <td>-122.319</td>\n",
       "      <td>1690</td>\n",
       "      <td>7639</td>\n",
       "    </tr>\n",
       "    <tr>\n",
       "      <td>2</td>\n",
       "      <td>5631500400</td>\n",
       "      <td>2/25/2015</td>\n",
       "      <td>180000.0</td>\n",
       "      <td>2</td>\n",
       "      <td>1.00</td>\n",
       "      <td>770</td>\n",
       "      <td>10000</td>\n",
       "      <td>1.0</td>\n",
       "      <td>0.0</td>\n",
       "      <td>0.0</td>\n",
       "      <td>...</td>\n",
       "      <td>6</td>\n",
       "      <td>770</td>\n",
       "      <td>0.0</td>\n",
       "      <td>1933</td>\n",
       "      <td>NaN</td>\n",
       "      <td>98028</td>\n",
       "      <td>47.7379</td>\n",
       "      <td>-122.233</td>\n",
       "      <td>2720</td>\n",
       "      <td>8062</td>\n",
       "    </tr>\n",
       "    <tr>\n",
       "      <td>3</td>\n",
       "      <td>2487200875</td>\n",
       "      <td>12/9/2014</td>\n",
       "      <td>604000.0</td>\n",
       "      <td>4</td>\n",
       "      <td>3.00</td>\n",
       "      <td>1960</td>\n",
       "      <td>5000</td>\n",
       "      <td>1.0</td>\n",
       "      <td>0.0</td>\n",
       "      <td>0.0</td>\n",
       "      <td>...</td>\n",
       "      <td>7</td>\n",
       "      <td>1050</td>\n",
       "      <td>910.0</td>\n",
       "      <td>1965</td>\n",
       "      <td>0.0</td>\n",
       "      <td>98136</td>\n",
       "      <td>47.5208</td>\n",
       "      <td>-122.393</td>\n",
       "      <td>1360</td>\n",
       "      <td>5000</td>\n",
       "    </tr>\n",
       "    <tr>\n",
       "      <td>4</td>\n",
       "      <td>1954400510</td>\n",
       "      <td>2/18/2015</td>\n",
       "      <td>510000.0</td>\n",
       "      <td>3</td>\n",
       "      <td>2.00</td>\n",
       "      <td>1680</td>\n",
       "      <td>8080</td>\n",
       "      <td>1.0</td>\n",
       "      <td>0.0</td>\n",
       "      <td>0.0</td>\n",
       "      <td>...</td>\n",
       "      <td>8</td>\n",
       "      <td>1680</td>\n",
       "      <td>0.0</td>\n",
       "      <td>1987</td>\n",
       "      <td>0.0</td>\n",
       "      <td>98074</td>\n",
       "      <td>47.6168</td>\n",
       "      <td>-122.045</td>\n",
       "      <td>1800</td>\n",
       "      <td>7503</td>\n",
       "    </tr>\n",
       "  </tbody>\n",
       "</table>\n",
       "<p>5 rows × 21 columns</p>\n",
       "</div>"
      ],
      "text/plain": [
       "           id        date     price  bedrooms  bathrooms  sqft_living  \\\n",
       "0  7129300520  10/13/2014  221900.0         3       1.00         1180   \n",
       "1  6414100192   12/9/2014  538000.0         3       2.25         2570   \n",
       "2  5631500400   2/25/2015  180000.0         2       1.00          770   \n",
       "3  2487200875   12/9/2014  604000.0         4       3.00         1960   \n",
       "4  1954400510   2/18/2015  510000.0         3       2.00         1680   \n",
       "\n",
       "   sqft_lot  floors  waterfront  view  ...  grade  sqft_above  sqft_basement  \\\n",
       "0      5650     1.0         NaN   0.0  ...      7        1180            0.0   \n",
       "1      7242     2.0         0.0   0.0  ...      7        2170          400.0   \n",
       "2     10000     1.0         0.0   0.0  ...      6         770            0.0   \n",
       "3      5000     1.0         0.0   0.0  ...      7        1050          910.0   \n",
       "4      8080     1.0         0.0   0.0  ...      8        1680            0.0   \n",
       "\n",
       "  yr_built  yr_renovated  zipcode      lat     long  sqft_living15  sqft_lot15  \n",
       "0     1955           0.0    98178  47.5112 -122.257           1340        5650  \n",
       "1     1951        1991.0    98125  47.7210 -122.319           1690        7639  \n",
       "2     1933           NaN    98028  47.7379 -122.233           2720        8062  \n",
       "3     1965           0.0    98136  47.5208 -122.393           1360        5000  \n",
       "4     1987           0.0    98074  47.6168 -122.045           1800        7503  \n",
       "\n",
       "[5 rows x 21 columns]"
      ]
     },
     "execution_count": 5,
     "metadata": {},
     "output_type": "execute_result"
    }
   ],
   "source": [
    "df.head()"
   ]
  },
  {
   "cell_type": "code",
   "execution_count": 6,
   "metadata": {},
   "outputs": [
    {
     "name": "stdout",
     "output_type": "stream",
     "text": [
      "<class 'pandas.core.frame.DataFrame'>\n",
      "RangeIndex: 21597 entries, 0 to 21596\n",
      "Data columns (total 21 columns):\n",
      "id               21597 non-null int64\n",
      "date             21597 non-null object\n",
      "price            21597 non-null float64\n",
      "bedrooms         21597 non-null int64\n",
      "bathrooms        21597 non-null float64\n",
      "sqft_living      21597 non-null int64\n",
      "sqft_lot         21597 non-null int64\n",
      "floors           21597 non-null float64\n",
      "waterfront       19221 non-null float64\n",
      "view             21534 non-null float64\n",
      "condition        21597 non-null int64\n",
      "grade            21597 non-null int64\n",
      "sqft_above       21597 non-null int64\n",
      "sqft_basement    21597 non-null object\n",
      "yr_built         21597 non-null int64\n",
      "yr_renovated     17755 non-null float64\n",
      "zipcode          21597 non-null int64\n",
      "lat              21597 non-null float64\n",
      "long             21597 non-null float64\n",
      "sqft_living15    21597 non-null int64\n",
      "sqft_lot15       21597 non-null int64\n",
      "dtypes: float64(8), int64(11), object(2)\n",
      "memory usage: 3.5+ MB\n"
     ]
    }
   ],
   "source": [
    "df.info()\n",
    "# note that we have 2 objects: date, and sqft_basement "
   ]
  },
  {
   "cell_type": "code",
   "execution_count": 8,
   "metadata": {},
   "outputs": [
    {
     "data": {
      "text/plain": [
       "Index(['id', 'date', 'price', 'bedrooms', 'bathrooms', 'sqft_living',\n",
       "       'sqft_lot', 'floors', 'waterfront', 'view', 'condition', 'grade',\n",
       "       'sqft_above', 'sqft_basement', 'yr_built', 'yr_renovated', 'zipcode',\n",
       "       'lat', 'long', 'sqft_living15', 'sqft_lot15'],\n",
       "      dtype='object')"
      ]
     },
     "execution_count": 8,
     "metadata": {},
     "output_type": "execute_result"
    }
   ],
   "source": [
    "df.columns"
   ]
  },
  {
   "cell_type": "markdown",
   "metadata": {},
   "source": [
    "## What Are We Missing "
   ]
  },
  {
   "cell_type": "code",
   "execution_count": 10,
   "metadata": {},
   "outputs": [
    {
     "data": {
      "text/plain": [
       "id                  0\n",
       "date                0\n",
       "price               0\n",
       "bedrooms            0\n",
       "bathrooms           0\n",
       "sqft_living         0\n",
       "sqft_lot            0\n",
       "floors              0\n",
       "waterfront       2376\n",
       "view               63\n",
       "condition           0\n",
       "grade               0\n",
       "sqft_above          0\n",
       "sqft_basement       0\n",
       "yr_built            0\n",
       "yr_renovated     3842\n",
       "zipcode             0\n",
       "lat                 0\n",
       "long                0\n",
       "sqft_living15       0\n",
       "sqft_lot15          0\n",
       "dtype: int64"
      ]
     },
     "execution_count": 10,
     "metadata": {},
     "output_type": "execute_result"
    }
   ],
   "source": [
    "df.isna().sum()\n",
    "# view, water front, year renovated "
   ]
  },
  {
   "cell_type": "markdown",
   "metadata": {},
   "source": [
    "## Cleaning of Water Front "
   ]
  },
  {
   "cell_type": "code",
   "execution_count": 11,
   "metadata": {},
   "outputs": [
    {
     "data": {
      "text/plain": [
       "0.0    19075\n",
       "1.0      146\n",
       "Name: waterfront, dtype: int64"
      ]
     },
     "execution_count": 11,
     "metadata": {},
     "output_type": "execute_result"
    }
   ],
   "source": [
    "# waterfront is a float of what?\n",
    "\n",
    "df['waterfront'].value_counts()\n",
    "\n",
    "# looks like catagorical data so lets set the nulls to most common occurance == 0.00"
   ]
  },
  {
   "cell_type": "code",
   "execution_count": 12,
   "metadata": {},
   "outputs": [],
   "source": [
    "df['waterfront'].fillna(0.0, inplace=True) # replacing nulls"
   ]
  },
  {
   "cell_type": "markdown",
   "metadata": {},
   "source": [
    "## Cleaning of Veiw"
   ]
  },
  {
   "cell_type": "code",
   "execution_count": 18,
   "metadata": {},
   "outputs": [
    {
     "data": {
      "text/plain": [
       "0.0    19422\n",
       "2.0      957\n",
       "3.0      508\n",
       "1.0      330\n",
       "4.0      317\n",
       "Name: view, dtype: int64"
      ]
     },
     "execution_count": 18,
     "metadata": {},
     "output_type": "execute_result"
    }
   ],
   "source": [
    "df['view'].value_counts()\n",
    "# looks like numerical data so lets set the NaNs values to the columns median"
   ]
  },
  {
   "cell_type": "code",
   "execution_count": 19,
   "metadata": {},
   "outputs": [
    {
     "data": {
      "text/plain": [
       "0.0"
      ]
     },
     "execution_count": 19,
     "metadata": {},
     "output_type": "execute_result"
    }
   ],
   "source": [
    "df['view'].median() # finding median "
   ]
  },
  {
   "cell_type": "code",
   "execution_count": 20,
   "metadata": {},
   "outputs": [],
   "source": [
    "df['view'].fillna(0.0, inplace=True) # replacing NaNs"
   ]
  },
  {
   "cell_type": "markdown",
   "metadata": {},
   "source": [
    "## Cleaning of Year Removated "
   ]
  },
  {
   "cell_type": "code",
   "execution_count": 21,
   "metadata": {},
   "outputs": [
    {
     "data": {
      "text/plain": [
       "0.0       17011\n",
       "2014.0       73\n",
       "2003.0       31\n",
       "2013.0       31\n",
       "2007.0       30\n",
       "          ...  \n",
       "1946.0        1\n",
       "1959.0        1\n",
       "1971.0        1\n",
       "1951.0        1\n",
       "1954.0        1\n",
       "Name: yr_renovated, Length: 70, dtype: int64"
      ]
     },
     "execution_count": 21,
     "metadata": {},
     "output_type": "execute_result"
    }
   ],
   "source": [
    "df['yr_renovated'].value_counts() # looks like numerical data so lets set the NaNs values to the columns median"
   ]
  },
  {
   "cell_type": "code",
   "execution_count": 22,
   "metadata": {},
   "outputs": [
    {
     "data": {
      "text/plain": [
       "0.0"
      ]
     },
     "execution_count": 22,
     "metadata": {},
     "output_type": "execute_result"
    }
   ],
   "source": [
    "df['yr_renovated'].median() # finding median "
   ]
  },
  {
   "cell_type": "code",
   "execution_count": 23,
   "metadata": {},
   "outputs": [],
   "source": [
    "df['yr_renovated'].fillna(0.0, inplace=True) # replacing NaNs"
   ]
  },
  {
   "cell_type": "code",
   "execution_count": 24,
   "metadata": {},
   "outputs": [
    {
     "data": {
      "text/plain": [
       "id               0\n",
       "date             0\n",
       "price            0\n",
       "bedrooms         0\n",
       "bathrooms        0\n",
       "sqft_living      0\n",
       "sqft_lot         0\n",
       "floors           0\n",
       "waterfront       0\n",
       "view             0\n",
       "condition        0\n",
       "grade            0\n",
       "sqft_above       0\n",
       "sqft_basement    0\n",
       "yr_built         0\n",
       "yr_renovated     0\n",
       "zipcode          0\n",
       "lat              0\n",
       "long             0\n",
       "sqft_living15    0\n",
       "sqft_lot15       0\n",
       "dtype: int64"
      ]
     },
     "execution_count": 24,
     "metadata": {},
     "output_type": "execute_result"
    }
   ],
   "source": [
    "df.isna().sum() # checking for NaNs"
   ]
  },
  {
   "cell_type": "markdown",
   "metadata": {},
   "source": [
    "## Why is Square Foot Basement a Object and Not an Integer or Float "
   ]
  },
  {
   "cell_type": "code",
   "execution_count": 28,
   "metadata": {},
   "outputs": [
    {
     "data": {
      "text/plain": [
       "array(['0.0', '400.0', '910.0', '1530.0', '?', '730.0', '1700.0', '300.0',\n",
       "       '970.0', '760.0', '720.0', '700.0', '820.0', '780.0', '790.0',\n",
       "       '330.0', '1620.0', '360.0', '588.0', '1510.0', '410.0', '990.0',\n",
       "       '600.0', '560.0', '550.0', '1000.0', '1600.0', '500.0', '1040.0',\n",
       "       '880.0', '1010.0', '240.0', '265.0', '290.0', '800.0', '540.0',\n",
       "       '710.0', '840.0', '380.0', '770.0', '480.0', '570.0', '1490.0',\n",
       "       '620.0', '1250.0', '1270.0', '120.0', '650.0', '180.0', '1130.0',\n",
       "       '450.0', '1640.0', '1460.0', '1020.0', '1030.0', '750.0', '640.0',\n",
       "       '1070.0', '490.0', '1310.0', '630.0', '2000.0', '390.0', '430.0',\n",
       "       '850.0', '210.0', '1430.0', '1950.0', '440.0', '220.0', '1160.0',\n",
       "       '860.0', '580.0', '2060.0', '1820.0', '1180.0', '200.0', '1150.0',\n",
       "       '1200.0', '680.0', '530.0', '1450.0', '1170.0', '1080.0', '960.0',\n",
       "       '280.0', '870.0', '1100.0', '460.0', '1400.0', '660.0', '1220.0',\n",
       "       '900.0', '420.0', '1580.0', '1380.0', '475.0', '690.0', '270.0',\n",
       "       '350.0', '935.0', '1370.0', '980.0', '1470.0', '160.0', '950.0',\n",
       "       '50.0', '740.0', '1780.0', '1900.0', '340.0', '470.0', '370.0',\n",
       "       '140.0', '1760.0', '130.0', '520.0', '890.0', '1110.0', '150.0',\n",
       "       '1720.0', '810.0', '190.0', '1290.0', '670.0', '1800.0', '1120.0',\n",
       "       '1810.0', '60.0', '1050.0', '940.0', '310.0', '930.0', '1390.0',\n",
       "       '610.0', '1830.0', '1300.0', '510.0', '1330.0', '1590.0', '920.0',\n",
       "       '1320.0', '1420.0', '1240.0', '1960.0', '1560.0', '2020.0',\n",
       "       '1190.0', '2110.0', '1280.0', '250.0', '2390.0', '1230.0', '170.0',\n",
       "       '830.0', '1260.0', '1410.0', '1340.0', '590.0', '1500.0', '1140.0',\n",
       "       '260.0', '100.0', '320.0', '1480.0', '1060.0', '1284.0', '1670.0',\n",
       "       '1350.0', '2570.0', '1090.0', '110.0', '2500.0', '90.0', '1940.0',\n",
       "       '1550.0', '2350.0', '2490.0', '1481.0', '1360.0', '1135.0',\n",
       "       '1520.0', '1850.0', '1660.0', '2130.0', '2600.0', '1690.0',\n",
       "       '243.0', '1210.0', '1024.0', '1798.0', '1610.0', '1440.0',\n",
       "       '1570.0', '1650.0', '704.0', '1910.0', '1630.0', '2360.0',\n",
       "       '1852.0', '2090.0', '2400.0', '1790.0', '2150.0', '230.0', '70.0',\n",
       "       '1680.0', '2100.0', '3000.0', '1870.0', '1710.0', '2030.0',\n",
       "       '875.0', '1540.0', '2850.0', '2170.0', '506.0', '906.0', '145.0',\n",
       "       '2040.0', '784.0', '1750.0', '374.0', '518.0', '2720.0', '2730.0',\n",
       "       '1840.0', '3480.0', '2160.0', '1920.0', '2330.0', '1860.0',\n",
       "       '2050.0', '4820.0', '1913.0', '80.0', '2010.0', '3260.0', '2200.0',\n",
       "       '415.0', '1730.0', '652.0', '2196.0', '1930.0', '515.0', '40.0',\n",
       "       '2080.0', '2580.0', '1548.0', '1740.0', '235.0', '861.0', '1890.0',\n",
       "       '2220.0', '792.0', '2070.0', '4130.0', '2250.0', '2240.0',\n",
       "       '1990.0', '768.0', '2550.0', '435.0', '1008.0', '2300.0', '2610.0',\n",
       "       '666.0', '3500.0', '172.0', '1816.0', '2190.0', '1245.0', '1525.0',\n",
       "       '1880.0', '862.0', '946.0', '1281.0', '414.0', '2180.0', '276.0',\n",
       "       '1248.0', '602.0', '516.0', '176.0', '225.0', '1275.0', '266.0',\n",
       "       '283.0', '65.0', '2310.0', '10.0', '1770.0', '2120.0', '295.0',\n",
       "       '207.0', '915.0', '556.0', '417.0', '143.0', '508.0', '2810.0',\n",
       "       '20.0', '274.0', '248.0'], dtype=object)"
      ]
     },
     "execution_count": 28,
     "metadata": {},
     "output_type": "execute_result"
    }
   ],
   "source": [
    "df['sqft_basement'].unique() # looks like there is a string '?'"
   ]
  },
  {
   "cell_type": "code",
   "execution_count": 29,
   "metadata": {},
   "outputs": [
    {
     "data": {
      "text/plain": [
       "0.0       12826\n",
       "?           454\n",
       "600.0       217\n",
       "500.0       209\n",
       "700.0       208\n",
       "          ...  \n",
       "2360.0        1\n",
       "2720.0        1\n",
       "1798.0        1\n",
       "1920.0        1\n",
       "1880.0        1\n",
       "Name: sqft_basement, Length: 304, dtype: int64"
      ]
     },
     "execution_count": 29,
     "metadata": {},
     "output_type": "execute_result"
    }
   ],
   "source": [
    "df['sqft_basement'].value_counts() # ? is ==  missing data "
   ]
  },
  {
   "cell_type": "markdown",
   "metadata": {},
   "source": [
    "When looking at the column names and their descriptions you can see that if you take the differnce between square foot above living and square foot living you are left with the basement."
   ]
  },
  {
   "cell_type": "code",
   "execution_count": 30,
   "metadata": {},
   "outputs": [],
   "source": [
    "df['sqft_basement']= df['sqft_living'] - df['sqft_above'] \n",
    "# differnce between square foot above living and square foot living"
   ]
  },
  {
   "cell_type": "code",
   "execution_count": 31,
   "metadata": {},
   "outputs": [
    {
     "data": {
      "text/plain": [
       "0       13110\n",
       "600       221\n",
       "700       218\n",
       "500       214\n",
       "800       206\n",
       "        ...  \n",
       "792         1\n",
       "2590        1\n",
       "935         1\n",
       "2390        1\n",
       "248         1\n",
       "Name: sqft_basement, Length: 306, dtype: int64"
      ]
     },
     "execution_count": 31,
     "metadata": {},
     "output_type": "execute_result"
    }
   ],
   "source": [
    "df['sqft_basement'].value_counts() # the missing data is no moreand the data type is now an integer"
   ]
  },
  {
   "cell_type": "markdown",
   "metadata": {},
   "source": [
    "**Now lets look at id of the home to see if there are any repeats** "
   ]
  },
  {
   "cell_type": "code",
   "execution_count": 58,
   "metadata": {},
   "outputs": [
    {
     "data": {
      "text/html": [
       "<div>\n",
       "<style scoped>\n",
       "    .dataframe tbody tr th:only-of-type {\n",
       "        vertical-align: middle;\n",
       "    }\n",
       "\n",
       "    .dataframe tbody tr th {\n",
       "        vertical-align: top;\n",
       "    }\n",
       "\n",
       "    .dataframe thead th {\n",
       "        text-align: right;\n",
       "    }\n",
       "</style>\n",
       "<table border=\"1\" class=\"dataframe\">\n",
       "  <thead>\n",
       "    <tr style=\"text-align: right;\">\n",
       "      <th></th>\n",
       "      <th>id</th>\n",
       "      <th>date</th>\n",
       "      <th>price</th>\n",
       "      <th>bedrooms</th>\n",
       "      <th>bathrooms</th>\n",
       "      <th>sqft_living</th>\n",
       "      <th>sqft_lot</th>\n",
       "      <th>floors</th>\n",
       "      <th>waterfront</th>\n",
       "      <th>view</th>\n",
       "      <th>...</th>\n",
       "      <th>grade</th>\n",
       "      <th>sqft_above</th>\n",
       "      <th>sqft_basement</th>\n",
       "      <th>yr_built</th>\n",
       "      <th>yr_renovated</th>\n",
       "      <th>zipcode</th>\n",
       "      <th>lat</th>\n",
       "      <th>long</th>\n",
       "      <th>sqft_living15</th>\n",
       "      <th>sqft_lot15</th>\n",
       "    </tr>\n",
       "  </thead>\n",
       "  <tbody>\n",
       "    <tr>\n",
       "      <td>372</td>\n",
       "      <td>2231500030</td>\n",
       "      <td>3/24/2015</td>\n",
       "      <td>530000.0</td>\n",
       "      <td>4</td>\n",
       "      <td>2.25</td>\n",
       "      <td>2180</td>\n",
       "      <td>10754</td>\n",
       "      <td>1.0</td>\n",
       "      <td>0.0</td>\n",
       "      <td>0.0</td>\n",
       "      <td>...</td>\n",
       "      <td>7</td>\n",
       "      <td>1100</td>\n",
       "      <td>1080</td>\n",
       "      <td>1954</td>\n",
       "      <td>0.0</td>\n",
       "      <td>98133</td>\n",
       "      <td>47.7711</td>\n",
       "      <td>-122.341</td>\n",
       "      <td>1810</td>\n",
       "      <td>6929</td>\n",
       "    </tr>\n",
       "    <tr>\n",
       "      <td>718</td>\n",
       "      <td>8820903380</td>\n",
       "      <td>1/2/2015</td>\n",
       "      <td>730000.0</td>\n",
       "      <td>6</td>\n",
       "      <td>2.25</td>\n",
       "      <td>2660</td>\n",
       "      <td>13579</td>\n",
       "      <td>2.0</td>\n",
       "      <td>0.0</td>\n",
       "      <td>0.0</td>\n",
       "      <td>...</td>\n",
       "      <td>7</td>\n",
       "      <td>2660</td>\n",
       "      <td>0</td>\n",
       "      <td>1937</td>\n",
       "      <td>1990.0</td>\n",
       "      <td>98125</td>\n",
       "      <td>47.7142</td>\n",
       "      <td>-122.286</td>\n",
       "      <td>1120</td>\n",
       "      <td>8242</td>\n",
       "    </tr>\n",
       "    <tr>\n",
       "      <td>1085</td>\n",
       "      <td>9834200885</td>\n",
       "      <td>4/20/2015</td>\n",
       "      <td>550000.0</td>\n",
       "      <td>4</td>\n",
       "      <td>2.50</td>\n",
       "      <td>2080</td>\n",
       "      <td>4080</td>\n",
       "      <td>1.0</td>\n",
       "      <td>0.0</td>\n",
       "      <td>0.0</td>\n",
       "      <td>...</td>\n",
       "      <td>7</td>\n",
       "      <td>1040</td>\n",
       "      <td>1040</td>\n",
       "      <td>1962</td>\n",
       "      <td>0.0</td>\n",
       "      <td>98144</td>\n",
       "      <td>47.5720</td>\n",
       "      <td>-122.290</td>\n",
       "      <td>1340</td>\n",
       "      <td>4080</td>\n",
       "    </tr>\n",
       "    <tr>\n",
       "      <td>1201</td>\n",
       "      <td>1231000510</td>\n",
       "      <td>5/4/2015</td>\n",
       "      <td>510000.0</td>\n",
       "      <td>3</td>\n",
       "      <td>1.75</td>\n",
       "      <td>1490</td>\n",
       "      <td>3800</td>\n",
       "      <td>1.0</td>\n",
       "      <td>0.0</td>\n",
       "      <td>0.0</td>\n",
       "      <td>...</td>\n",
       "      <td>6</td>\n",
       "      <td>700</td>\n",
       "      <td>790</td>\n",
       "      <td>1913</td>\n",
       "      <td>0.0</td>\n",
       "      <td>98118</td>\n",
       "      <td>47.5554</td>\n",
       "      <td>-122.270</td>\n",
       "      <td>2180</td>\n",
       "      <td>4000</td>\n",
       "    </tr>\n",
       "    <tr>\n",
       "      <td>1233</td>\n",
       "      <td>6117501820</td>\n",
       "      <td>4/28/2015</td>\n",
       "      <td>435000.0</td>\n",
       "      <td>2</td>\n",
       "      <td>1.00</td>\n",
       "      <td>790</td>\n",
       "      <td>11234</td>\n",
       "      <td>1.0</td>\n",
       "      <td>0.0</td>\n",
       "      <td>0.0</td>\n",
       "      <td>...</td>\n",
       "      <td>6</td>\n",
       "      <td>790</td>\n",
       "      <td>0</td>\n",
       "      <td>1942</td>\n",
       "      <td>0.0</td>\n",
       "      <td>98166</td>\n",
       "      <td>47.4413</td>\n",
       "      <td>-122.349</td>\n",
       "      <td>1930</td>\n",
       "      <td>11871</td>\n",
       "    </tr>\n",
       "    <tr>\n",
       "      <td>...</td>\n",
       "      <td>...</td>\n",
       "      <td>...</td>\n",
       "      <td>...</td>\n",
       "      <td>...</td>\n",
       "      <td>...</td>\n",
       "      <td>...</td>\n",
       "      <td>...</td>\n",
       "      <td>...</td>\n",
       "      <td>...</td>\n",
       "      <td>...</td>\n",
       "      <td>...</td>\n",
       "      <td>...</td>\n",
       "      <td>...</td>\n",
       "      <td>...</td>\n",
       "      <td>...</td>\n",
       "      <td>...</td>\n",
       "      <td>...</td>\n",
       "      <td>...</td>\n",
       "      <td>...</td>\n",
       "      <td>...</td>\n",
       "      <td>...</td>\n",
       "    </tr>\n",
       "    <tr>\n",
       "      <td>20165</td>\n",
       "      <td>7853400250</td>\n",
       "      <td>2/19/2015</td>\n",
       "      <td>645000.0</td>\n",
       "      <td>4</td>\n",
       "      <td>3.50</td>\n",
       "      <td>2910</td>\n",
       "      <td>5260</td>\n",
       "      <td>2.0</td>\n",
       "      <td>0.0</td>\n",
       "      <td>0.0</td>\n",
       "      <td>...</td>\n",
       "      <td>9</td>\n",
       "      <td>2910</td>\n",
       "      <td>0</td>\n",
       "      <td>2012</td>\n",
       "      <td>0.0</td>\n",
       "      <td>98065</td>\n",
       "      <td>47.5168</td>\n",
       "      <td>-121.883</td>\n",
       "      <td>2910</td>\n",
       "      <td>5260</td>\n",
       "    </tr>\n",
       "    <tr>\n",
       "      <td>20597</td>\n",
       "      <td>2724049222</td>\n",
       "      <td>12/1/2014</td>\n",
       "      <td>220000.0</td>\n",
       "      <td>2</td>\n",
       "      <td>2.50</td>\n",
       "      <td>1000</td>\n",
       "      <td>1092</td>\n",
       "      <td>2.0</td>\n",
       "      <td>0.0</td>\n",
       "      <td>0.0</td>\n",
       "      <td>...</td>\n",
       "      <td>7</td>\n",
       "      <td>990</td>\n",
       "      <td>10</td>\n",
       "      <td>2004</td>\n",
       "      <td>0.0</td>\n",
       "      <td>98118</td>\n",
       "      <td>47.5419</td>\n",
       "      <td>-122.271</td>\n",
       "      <td>1330</td>\n",
       "      <td>1466</td>\n",
       "    </tr>\n",
       "    <tr>\n",
       "      <td>20654</td>\n",
       "      <td>8564860270</td>\n",
       "      <td>3/30/2015</td>\n",
       "      <td>502000.0</td>\n",
       "      <td>4</td>\n",
       "      <td>2.50</td>\n",
       "      <td>2680</td>\n",
       "      <td>5539</td>\n",
       "      <td>2.0</td>\n",
       "      <td>0.0</td>\n",
       "      <td>0.0</td>\n",
       "      <td>...</td>\n",
       "      <td>8</td>\n",
       "      <td>2680</td>\n",
       "      <td>0</td>\n",
       "      <td>2013</td>\n",
       "      <td>0.0</td>\n",
       "      <td>98045</td>\n",
       "      <td>47.4759</td>\n",
       "      <td>-121.734</td>\n",
       "      <td>2680</td>\n",
       "      <td>5992</td>\n",
       "    </tr>\n",
       "    <tr>\n",
       "      <td>20764</td>\n",
       "      <td>6300000226</td>\n",
       "      <td>5/4/2015</td>\n",
       "      <td>380000.0</td>\n",
       "      <td>4</td>\n",
       "      <td>1.00</td>\n",
       "      <td>1200</td>\n",
       "      <td>2171</td>\n",
       "      <td>1.5</td>\n",
       "      <td>0.0</td>\n",
       "      <td>0.0</td>\n",
       "      <td>...</td>\n",
       "      <td>7</td>\n",
       "      <td>1200</td>\n",
       "      <td>0</td>\n",
       "      <td>1933</td>\n",
       "      <td>0.0</td>\n",
       "      <td>98133</td>\n",
       "      <td>47.7076</td>\n",
       "      <td>-122.342</td>\n",
       "      <td>1130</td>\n",
       "      <td>1598</td>\n",
       "    </tr>\n",
       "    <tr>\n",
       "      <td>21565</td>\n",
       "      <td>7853420110</td>\n",
       "      <td>5/4/2015</td>\n",
       "      <td>625000.0</td>\n",
       "      <td>3</td>\n",
       "      <td>3.00</td>\n",
       "      <td>2780</td>\n",
       "      <td>6000</td>\n",
       "      <td>2.0</td>\n",
       "      <td>0.0</td>\n",
       "      <td>0.0</td>\n",
       "      <td>...</td>\n",
       "      <td>9</td>\n",
       "      <td>2780</td>\n",
       "      <td>0</td>\n",
       "      <td>2013</td>\n",
       "      <td>0.0</td>\n",
       "      <td>98065</td>\n",
       "      <td>47.5184</td>\n",
       "      <td>-121.886</td>\n",
       "      <td>2850</td>\n",
       "      <td>6000</td>\n",
       "    </tr>\n",
       "  </tbody>\n",
       "</table>\n",
       "<p>151 rows × 21 columns</p>\n",
       "</div>"
      ],
      "text/plain": [
       "               id       date     price  bedrooms  bathrooms  sqft_living  \\\n",
       "372    2231500030  3/24/2015  530000.0         4       2.25         2180   \n",
       "718    8820903380   1/2/2015  730000.0         6       2.25         2660   \n",
       "1085   9834200885  4/20/2015  550000.0         4       2.50         2080   \n",
       "1201   1231000510   5/4/2015  510000.0         3       1.75         1490   \n",
       "1233   6117501820  4/28/2015  435000.0         2       1.00          790   \n",
       "...           ...        ...       ...       ...        ...          ...   \n",
       "20165  7853400250  2/19/2015  645000.0         4       3.50         2910   \n",
       "20597  2724049222  12/1/2014  220000.0         2       2.50         1000   \n",
       "20654  8564860270  3/30/2015  502000.0         4       2.50         2680   \n",
       "20764  6300000226   5/4/2015  380000.0         4       1.00         1200   \n",
       "21565  7853420110   5/4/2015  625000.0         3       3.00         2780   \n",
       "\n",
       "       sqft_lot  floors  waterfront  view  ...  grade  sqft_above  \\\n",
       "372       10754     1.0         0.0   0.0  ...      7        1100   \n",
       "718       13579     2.0         0.0   0.0  ...      7        2660   \n",
       "1085       4080     1.0         0.0   0.0  ...      7        1040   \n",
       "1201       3800     1.0         0.0   0.0  ...      6         700   \n",
       "1233      11234     1.0         0.0   0.0  ...      6         790   \n",
       "...         ...     ...         ...   ...  ...    ...         ...   \n",
       "20165      5260     2.0         0.0   0.0  ...      9        2910   \n",
       "20597      1092     2.0         0.0   0.0  ...      7         990   \n",
       "20654      5539     2.0         0.0   0.0  ...      8        2680   \n",
       "20764      2171     1.5         0.0   0.0  ...      7        1200   \n",
       "21565      6000     2.0         0.0   0.0  ...      9        2780   \n",
       "\n",
       "       sqft_basement  yr_built  yr_renovated  zipcode      lat     long  \\\n",
       "372             1080      1954           0.0    98133  47.7711 -122.341   \n",
       "718                0      1937        1990.0    98125  47.7142 -122.286   \n",
       "1085            1040      1962           0.0    98144  47.5720 -122.290   \n",
       "1201             790      1913           0.0    98118  47.5554 -122.270   \n",
       "1233               0      1942           0.0    98166  47.4413 -122.349   \n",
       "...              ...       ...           ...      ...      ...      ...   \n",
       "20165              0      2012           0.0    98065  47.5168 -121.883   \n",
       "20597             10      2004           0.0    98118  47.5419 -122.271   \n",
       "20654              0      2013           0.0    98045  47.4759 -121.734   \n",
       "20764              0      1933           0.0    98133  47.7076 -122.342   \n",
       "21565              0      2013           0.0    98065  47.5184 -121.886   \n",
       "\n",
       "       sqft_living15  sqft_lot15  \n",
       "372             1810        6929  \n",
       "718             1120        8242  \n",
       "1085            1340        4080  \n",
       "1201            2180        4000  \n",
       "1233            1930       11871  \n",
       "...              ...         ...  \n",
       "20165           2910        5260  \n",
       "20597           1330        1466  \n",
       "20654           2680        5992  \n",
       "20764           1130        1598  \n",
       "21565           2850        6000  \n",
       "\n",
       "[151 rows x 21 columns]"
      ]
     },
     "execution_count": 58,
     "metadata": {},
     "output_type": "execute_result"
    }
   ],
   "source": [
    "df.loc[df['id'].duplicated() & df['price'].duplicated()]"
   ]
  },
  {
   "cell_type": "code",
   "execution_count": 49,
   "metadata": {},
   "outputs": [
    {
     "data": {
      "text/html": [
       "<div>\n",
       "<style scoped>\n",
       "    .dataframe tbody tr th:only-of-type {\n",
       "        vertical-align: middle;\n",
       "    }\n",
       "\n",
       "    .dataframe tbody tr th {\n",
       "        vertical-align: top;\n",
       "    }\n",
       "\n",
       "    .dataframe thead th {\n",
       "        text-align: right;\n",
       "    }\n",
       "</style>\n",
       "<table border=\"1\" class=\"dataframe\">\n",
       "  <thead>\n",
       "    <tr style=\"text-align: right;\">\n",
       "      <th></th>\n",
       "      <th>id</th>\n",
       "      <th>date</th>\n",
       "      <th>price</th>\n",
       "      <th>bedrooms</th>\n",
       "      <th>bathrooms</th>\n",
       "      <th>sqft_living</th>\n",
       "      <th>sqft_lot</th>\n",
       "      <th>floors</th>\n",
       "      <th>waterfront</th>\n",
       "      <th>view</th>\n",
       "      <th>...</th>\n",
       "      <th>grade</th>\n",
       "      <th>sqft_above</th>\n",
       "      <th>sqft_basement</th>\n",
       "      <th>yr_built</th>\n",
       "      <th>yr_renovated</th>\n",
       "      <th>zipcode</th>\n",
       "      <th>lat</th>\n",
       "      <th>long</th>\n",
       "      <th>sqft_living15</th>\n",
       "      <th>sqft_lot15</th>\n",
       "    </tr>\n",
       "  </thead>\n",
       "  <tbody>\n",
       "    <tr>\n",
       "      <td>21564</td>\n",
       "      <td>7853420110</td>\n",
       "      <td>10/3/2014</td>\n",
       "      <td>594866.0</td>\n",
       "      <td>3</td>\n",
       "      <td>3.0</td>\n",
       "      <td>2780</td>\n",
       "      <td>6000</td>\n",
       "      <td>2.0</td>\n",
       "      <td>0.0</td>\n",
       "      <td>0.0</td>\n",
       "      <td>...</td>\n",
       "      <td>9</td>\n",
       "      <td>2780</td>\n",
       "      <td>0</td>\n",
       "      <td>2013</td>\n",
       "      <td>0.0</td>\n",
       "      <td>98065</td>\n",
       "      <td>47.5184</td>\n",
       "      <td>-121.886</td>\n",
       "      <td>2850</td>\n",
       "      <td>6000</td>\n",
       "    </tr>\n",
       "    <tr>\n",
       "      <td>21565</td>\n",
       "      <td>7853420110</td>\n",
       "      <td>5/4/2015</td>\n",
       "      <td>625000.0</td>\n",
       "      <td>3</td>\n",
       "      <td>3.0</td>\n",
       "      <td>2780</td>\n",
       "      <td>6000</td>\n",
       "      <td>2.0</td>\n",
       "      <td>0.0</td>\n",
       "      <td>0.0</td>\n",
       "      <td>...</td>\n",
       "      <td>9</td>\n",
       "      <td>2780</td>\n",
       "      <td>0</td>\n",
       "      <td>2013</td>\n",
       "      <td>0.0</td>\n",
       "      <td>98065</td>\n",
       "      <td>47.5184</td>\n",
       "      <td>-121.886</td>\n",
       "      <td>2850</td>\n",
       "      <td>6000</td>\n",
       "    </tr>\n",
       "  </tbody>\n",
       "</table>\n",
       "<p>2 rows × 21 columns</p>\n",
       "</div>"
      ],
      "text/plain": [
       "               id       date     price  bedrooms  bathrooms  sqft_living  \\\n",
       "21564  7853420110  10/3/2014  594866.0         3        3.0         2780   \n",
       "21565  7853420110   5/4/2015  625000.0         3        3.0         2780   \n",
       "\n",
       "       sqft_lot  floors  waterfront  view  ...  grade  sqft_above  \\\n",
       "21564      6000     2.0         0.0   0.0  ...      9        2780   \n",
       "21565      6000     2.0         0.0   0.0  ...      9        2780   \n",
       "\n",
       "       sqft_basement  yr_built  yr_renovated  zipcode      lat     long  \\\n",
       "21564              0      2013           0.0    98065  47.5184 -121.886   \n",
       "21565              0      2013           0.0    98065  47.5184 -121.886   \n",
       "\n",
       "       sqft_living15  sqft_lot15  \n",
       "21564           2850        6000  \n",
       "21565           2850        6000  \n",
       "\n",
       "[2 rows x 21 columns]"
      ]
     },
     "execution_count": 49,
     "metadata": {},
     "output_type": "execute_result"
    }
   ],
   "source": [
    "df.loc[df['id'] == 7853420110] # pricing is the target but the duplicated ids of the homes have different prices"
   ]
  },
  {
   "cell_type": "code",
   "execution_count": 50,
   "metadata": {},
   "outputs": [
    {
     "data": {
      "text/html": [
       "<div>\n",
       "<style scoped>\n",
       "    .dataframe tbody tr th:only-of-type {\n",
       "        vertical-align: middle;\n",
       "    }\n",
       "\n",
       "    .dataframe tbody tr th {\n",
       "        vertical-align: top;\n",
       "    }\n",
       "\n",
       "    .dataframe thead th {\n",
       "        text-align: right;\n",
       "    }\n",
       "</style>\n",
       "<table border=\"1\" class=\"dataframe\">\n",
       "  <thead>\n",
       "    <tr style=\"text-align: right;\">\n",
       "      <th></th>\n",
       "      <th>id</th>\n",
       "      <th>date</th>\n",
       "      <th>price</th>\n",
       "      <th>bedrooms</th>\n",
       "      <th>bathrooms</th>\n",
       "      <th>sqft_living</th>\n",
       "      <th>sqft_lot</th>\n",
       "      <th>floors</th>\n",
       "      <th>waterfront</th>\n",
       "      <th>view</th>\n",
       "      <th>...</th>\n",
       "      <th>grade</th>\n",
       "      <th>sqft_above</th>\n",
       "      <th>sqft_basement</th>\n",
       "      <th>yr_built</th>\n",
       "      <th>yr_renovated</th>\n",
       "      <th>zipcode</th>\n",
       "      <th>lat</th>\n",
       "      <th>long</th>\n",
       "      <th>sqft_living15</th>\n",
       "      <th>sqft_lot15</th>\n",
       "    </tr>\n",
       "  </thead>\n",
       "  <tbody>\n",
       "    <tr>\n",
       "      <td>717</td>\n",
       "      <td>8820903380</td>\n",
       "      <td>7/28/2014</td>\n",
       "      <td>452000.0</td>\n",
       "      <td>6</td>\n",
       "      <td>2.25</td>\n",
       "      <td>2660</td>\n",
       "      <td>13579</td>\n",
       "      <td>2.0</td>\n",
       "      <td>0.0</td>\n",
       "      <td>0.0</td>\n",
       "      <td>...</td>\n",
       "      <td>7</td>\n",
       "      <td>2660</td>\n",
       "      <td>0</td>\n",
       "      <td>1937</td>\n",
       "      <td>1990.0</td>\n",
       "      <td>98125</td>\n",
       "      <td>47.7142</td>\n",
       "      <td>-122.286</td>\n",
       "      <td>1120</td>\n",
       "      <td>8242</td>\n",
       "    </tr>\n",
       "    <tr>\n",
       "      <td>718</td>\n",
       "      <td>8820903380</td>\n",
       "      <td>1/2/2015</td>\n",
       "      <td>730000.0</td>\n",
       "      <td>6</td>\n",
       "      <td>2.25</td>\n",
       "      <td>2660</td>\n",
       "      <td>13579</td>\n",
       "      <td>2.0</td>\n",
       "      <td>0.0</td>\n",
       "      <td>0.0</td>\n",
       "      <td>...</td>\n",
       "      <td>7</td>\n",
       "      <td>2660</td>\n",
       "      <td>0</td>\n",
       "      <td>1937</td>\n",
       "      <td>1990.0</td>\n",
       "      <td>98125</td>\n",
       "      <td>47.7142</td>\n",
       "      <td>-122.286</td>\n",
       "      <td>1120</td>\n",
       "      <td>8242</td>\n",
       "    </tr>\n",
       "  </tbody>\n",
       "</table>\n",
       "<p>2 rows × 21 columns</p>\n",
       "</div>"
      ],
      "text/plain": [
       "             id       date     price  bedrooms  bathrooms  sqft_living  \\\n",
       "717  8820903380  7/28/2014  452000.0         6       2.25         2660   \n",
       "718  8820903380   1/2/2015  730000.0         6       2.25         2660   \n",
       "\n",
       "     sqft_lot  floors  waterfront  view  ...  grade  sqft_above  \\\n",
       "717     13579     2.0         0.0   0.0  ...      7        2660   \n",
       "718     13579     2.0         0.0   0.0  ...      7        2660   \n",
       "\n",
       "     sqft_basement  yr_built  yr_renovated  zipcode      lat     long  \\\n",
       "717              0      1937        1990.0    98125  47.7142 -122.286   \n",
       "718              0      1937        1990.0    98125  47.7142 -122.286   \n",
       "\n",
       "     sqft_living15  sqft_lot15  \n",
       "717           1120        8242  \n",
       "718           1120        8242  \n",
       "\n",
       "[2 rows x 21 columns]"
      ]
     },
     "execution_count": 50,
     "metadata": {},
     "output_type": "execute_result"
    }
   ],
   "source": [
    "df.loc[df['id'] == 8820903380] # prices are different so we can keep the repeats in this case"
   ]
  },
  {
   "cell_type": "markdown",
   "metadata": {},
   "source": [
    "## Checking For Correlations"
   ]
  },
  {
   "cell_type": "code",
   "execution_count": 64,
   "metadata": {},
   "outputs": [
    {
     "data": {
      "text/plain": [
       "<matplotlib.axes._subplots.AxesSubplot at 0x1a21695b70>"
      ]
     },
     "execution_count": 64,
     "metadata": {},
     "output_type": "execute_result"
    },
    {
     "data": {
      "image/png": "[encoded data removed]",
      "text/plain": [
       "<Figure size 1440x1440 with 2 Axes>"
      ]
     },
     "metadata": {
      "needs_background": "light"
     },
     "output_type": "display_data"
    }
   ],
   "source": [
    "plt.figure(figsize = (20,20))\n",
    "sns.heatmap(df.corr()) # heatmap plot"
   ]
  },
  {
   "cell_type": "markdown",
   "metadata": {},
   "source": [
    "## Price vs Columns"
   ]
  },
  {
   "cell_type": "markdown",
   "metadata": {},
   "source": [
    "Most correlated columns:\n",
    "* sqft_living15\n",
    "* sqft_above\n",
    "* sqft_living\n",
    "* grade\n",
    "* bathroom"
   ]
  },
  {
   "cell_type": "markdown",
   "metadata": {},
   "source": [
    "Second correlated columns:\n",
    "* sqft_basement\n",
    "* view\n",
    "* waterfront\n",
    "* floor\n",
    "* bedroom"
   ]
  },
  {
   "cell_type": "markdown",
   "metadata": {},
   "source": [
    "**Lets look at all of the columns to see if anything is off**"
   ]
  },
  {
   "cell_type": "markdown",
   "metadata": {},
   "source": [
    "## Most Correlated Columns"
   ]
  },
  {
   "cell_type": "code",
   "execution_count": 80,
   "metadata": {},
   "outputs": [
    {
     "data": {
      "text/plain": [
       "2.50    5377\n",
       "1.00    3851\n",
       "1.75    3048\n",
       "2.25    2047\n",
       "2.00    1930\n",
       "1.50    1445\n",
       "2.75    1185\n",
       "3.00     753\n",
       "3.50     731\n",
       "3.25     589\n",
       "3.75     155\n",
       "4.00     136\n",
       "4.50     100\n",
       "4.25      79\n",
       "0.75      71\n",
       "4.75      23\n",
       "5.00      21\n",
       "5.25      13\n",
       "5.50      10\n",
       "1.25       9\n",
       "6.00       6\n",
       "5.75       4\n",
       "0.50       4\n",
       "8.00       2\n",
       "6.25       2\n",
       "6.75       2\n",
       "6.50       2\n",
       "7.50       1\n",
       "7.75       1\n",
       "Name: bathrooms, dtype: int64"
      ]
     },
     "execution_count": 80,
     "metadata": {},
     "output_type": "execute_result"
    }
   ],
   "source": [
    "df['bathrooms'].value_counts()  # outliers are here"
   ]
  },
  {
   "cell_type": "code",
   "execution_count": 79,
   "metadata": {},
   "outputs": [
    {
     "data": {
      "text/plain": [
       "7     8974\n",
       "8     6065\n",
       "9     2615\n",
       "6     2038\n",
       "10    1134\n",
       "11     399\n",
       "5      242\n",
       "12      89\n",
       "4       27\n",
       "13      13\n",
       "3        1\n",
       "Name: grade, dtype: int64"
      ]
     },
     "execution_count": 79,
     "metadata": {},
     "output_type": "execute_result"
    }
   ],
   "source": [
    "df['grade'].value_counts() # outliers are here"
   ]
  },
  {
   "cell_type": "code",
   "execution_count": 77,
   "metadata": {},
   "outputs": [
    {
     "data": {
      "text/plain": [
       "1540    197\n",
       "1440    195\n",
       "1560    192\n",
       "1500    180\n",
       "1460    169\n",
       "       ... \n",
       "4890      1\n",
       "2873      1\n",
       "952       1\n",
       "3193      1\n",
       "2049      1\n",
       "Name: sqft_living15, Length: 777, dtype: int64"
      ]
     },
     "execution_count": 77,
     "metadata": {},
     "output_type": "execute_result"
    }
   ],
   "source": [
    "df['sqft_living15'].value_counts()"
   ]
  },
  {
   "cell_type": "code",
   "execution_count": 78,
   "metadata": {},
   "outputs": [
    {
     "data": {
      "text/plain": [
       "1300    212\n",
       "1010    210\n",
       "1200    206\n",
       "1220    192\n",
       "1140    184\n",
       "       ... \n",
       "2601      1\n",
       "440       1\n",
       "2473      1\n",
       "2441      1\n",
       "1975      1\n",
       "Name: sqft_above, Length: 942, dtype: int64"
      ]
     },
     "execution_count": 78,
     "metadata": {},
     "output_type": "execute_result"
    }
   ],
   "source": [
    "df['sqft_above'].value_counts()"
   ]
  },
  {
   "cell_type": "code",
   "execution_count": 75,
   "metadata": {},
   "outputs": [
    {
     "data": {
      "text/plain": [
       "1300    138\n",
       "1400    135\n",
       "1440    133\n",
       "1660    129\n",
       "1010    129\n",
       "       ... \n",
       "4970      1\n",
       "2905      1\n",
       "2793      1\n",
       "4810      1\n",
       "1975      1\n",
       "Name: sqft_living, Length: 1034, dtype: int64"
      ]
     },
     "execution_count": 75,
     "metadata": {},
     "output_type": "execute_result"
    }
   ],
   "source": [
    "df['sqft_living'].value_counts()"
   ]
  },
  {
   "cell_type": "markdown",
   "metadata": {},
   "source": [
    "## Second Correlated Columns"
   ]
  },
  {
   "cell_type": "code",
   "execution_count": 81,
   "metadata": {},
   "outputs": [
    {
     "data": {
      "text/plain": [
       "0       13110\n",
       "600       221\n",
       "700       218\n",
       "500       214\n",
       "800       206\n",
       "        ...  \n",
       "792         1\n",
       "2590        1\n",
       "935         1\n",
       "2390        1\n",
       "248         1\n",
       "Name: sqft_basement, Length: 306, dtype: int64"
      ]
     },
     "execution_count": 81,
     "metadata": {},
     "output_type": "execute_result"
    }
   ],
   "source": [
    "df['sqft_basement'].value_counts()"
   ]
  },
  {
   "cell_type": "code",
   "execution_count": 82,
   "metadata": {},
   "outputs": [
    {
     "data": {
      "text/plain": [
       "0.0    19485\n",
       "2.0      957\n",
       "3.0      508\n",
       "1.0      330\n",
       "4.0      317\n",
       "Name: view, dtype: int64"
      ]
     },
     "execution_count": 82,
     "metadata": {},
     "output_type": "execute_result"
    }
   ],
   "source": [
    "df['view'].value_counts()"
   ]
  },
  {
   "cell_type": "code",
   "execution_count": 83,
   "metadata": {},
   "outputs": [
    {
     "data": {
      "text/plain": [
       "0.0    21451\n",
       "1.0      146\n",
       "Name: waterfront, dtype: int64"
      ]
     },
     "execution_count": 83,
     "metadata": {},
     "output_type": "execute_result"
    }
   ],
   "source": [
    "df['waterfront'].value_counts()"
   ]
  },
  {
   "cell_type": "code",
   "execution_count": 85,
   "metadata": {},
   "outputs": [
    {
     "data": {
      "text/plain": [
       "1.0    10673\n",
       "2.0     8235\n",
       "1.5     1910\n",
       "3.0      611\n",
       "2.5      161\n",
       "3.5        7\n",
       "Name: floors, dtype: int64"
      ]
     },
     "execution_count": 85,
     "metadata": {},
     "output_type": "execute_result"
    }
   ],
   "source": [
    "df['floors'].value_counts() # the 7 houses that have 3.5 floors may act as an outlier in this case"
   ]
  },
  {
   "cell_type": "code",
   "execution_count": 87,
   "metadata": {},
   "outputs": [
    {
     "data": {
      "text/plain": [
       "3     9824\n",
       "4     6882\n",
       "2     2760\n",
       "5     1601\n",
       "6      272\n",
       "1      196\n",
       "7       38\n",
       "8       13\n",
       "9        6\n",
       "10       3\n",
       "11       1\n",
       "33       1\n",
       "Name: bedrooms, dtype: int64"
      ]
     },
     "execution_count": 87,
     "metadata": {},
     "output_type": "execute_result"
    }
   ],
   "source": [
    "df['bedrooms'].value_counts() # outliers are here"
   ]
  },
  {
   "cell_type": "markdown",
   "metadata": {},
   "source": [
    "## What Can You See So Far?"
   ]
  },
  {
   "cell_type": "markdown",
   "metadata": {},
   "source": [
    "1. It looks like we could create a new column called house_sqft that has the basement and upperfloors combined \n",
    "2. When testing the models we could possibly tensor lat and long together\n",
    "3. Four columns have outliers:\n",
    "    - bedrooms\n",
    "    - floors\n",
    "    - bathrooms\n",
    "    - grade\n",
    "    \n",
    "Before droping anything lets see how a model will perform on the most correlated columns and the second most correlated columns. Once that is done we can then begin droping columns and combining columns. "
   ]
  },
  {
   "cell_type": "code",
   "execution_count": null,
   "metadata": {},
   "outputs": [],
   "source": []
  },
  {
   "cell_type": "code",
   "execution_count": null,
   "metadata": {},
   "outputs": [],
   "source": []
  }
 ],
 "metadata": {
  "kernelspec": {
   "display_name": "Python 3",
   "language": "python",
   "name": "python3"
  },
  "language_info": {
   "codemirror_mode": {
    "name": "ipython",
    "version": 3
   },
   "file_extension": ".py",
   "mimetype": "text/x-python",
   "name": "python",
   "nbconvert_exporter": "python",
   "pygments_lexer": "ipython3",
   "version": "3.6.9"
  }
 },
 "nbformat": 4,
 "nbformat_minor": 2
}
